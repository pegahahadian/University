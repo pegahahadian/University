{
  "nbformat": 4,
  "nbformat_minor": 0,
  "metadata": {
    "colab": {
      "name": "mobile_price_prediction_SVM.ipynb",
      "provenance": [],
      "collapsed_sections": [],
      "include_colab_link": true
    },
    "kernelspec": {
      "name": "python3",
      "display_name": "Python 3"
    },
    "language_info": {
      "name": "python"
    }
  },
  "cells": [
    {
      "cell_type": "markdown",
      "metadata": {
        "id": "view-in-github",
        "colab_type": "text"
      },
      "source": [
        "<a href=\"https://colab.research.google.com/github/pegahahadian/University_SBU/blob/main/mobile_price_prediction_SVM.ipynb\" target=\"_parent\"><img src=\"https://colab.research.google.com/assets/colab-badge.svg\" alt=\"Open In Colab\"/></a>"
      ]
    },
    {
      "cell_type": "code",
      "metadata": {
        "colab": {
          "resources": {
            "http://localhost:8080/nbextensions/google.colab/files.js": {
              "data": "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",
              "ok": true,
              "headers": [
                [
                  "content-type",
                  "application/javascript"
                ]
              ],
              "status": 200,
              "status_text": "OK"
            }
          },
          "base_uri": "https://localhost:8080/",
          "height": 73
        },
        "id": "K-GS5V_RfEsL",
        "outputId": "878299ea-6bc4-412e-fbc0-ee1314cf42ca"
      },
      "source": [
        "import pandas as pd\n",
        "import numpy as np\n",
        "import matplotlib.pyplot as plt\n",
        "import seaborn as sns\n",
        "from sklearn.svm import SVC\n",
        "from sklearn.model_selection import train_test_split\n",
        "from google.colab import drive\n",
        "import missingno as msno\n",
        "from google.colab import files \n",
        "uploaded = files.upload()"
      ],
      "execution_count": null,
      "outputs": [
        {
          "output_type": "display_data",
          "data": {
            "text/html": [
              "\n",
              "     <input type=\"file\" id=\"files-c7d329f2-6022-44e5-8354-d3971a07f3c9\" name=\"files[]\" multiple disabled\n",
              "        style=\"border:none\" />\n",
              "     <output id=\"result-c7d329f2-6022-44e5-8354-d3971a07f3c9\">\n",
              "      Upload widget is only available when the cell has been executed in the\n",
              "      current browser session. Please rerun this cell to enable.\n",
              "      </output>\n",
              "      <script src=\"/nbextensions/google.colab/files.js\"></script> "
            ],
            "text/plain": [
              "<IPython.core.display.HTML object>"
            ]
          },
          "metadata": {
            "tags": []
          }
        },
        {
          "output_type": "stream",
          "text": [
            "Saving train.csv to train.csv\n"
          ],
          "name": "stdout"
        }
      ]
    },
    {
      "cell_type": "code",
      "metadata": {
        "colab": {
          "base_uri": "https://localhost:8080/",
          "height": 206
        },
        "id": "vN3yB9iRJ5TV",
        "outputId": "a35f3afc-a6ad-4433-974c-e5f003046286"
      },
      "source": [
        "import pandas as pd \n",
        "import io \n",
        "\n",
        "df = pd.read_csv('train.csv') \n",
        "df.head()"
      ],
      "execution_count": null,
      "outputs": [
        {
          "output_type": "execute_result",
          "data": {
            "text/html": [
              "<div>\n",
              "<style scoped>\n",
              "    .dataframe tbody tr th:only-of-type {\n",
              "        vertical-align: middle;\n",
              "    }\n",
              "\n",
              "    .dataframe tbody tr th {\n",
              "        vertical-align: top;\n",
              "    }\n",
              "\n",
              "    .dataframe thead th {\n",
              "        text-align: right;\n",
              "    }\n",
              "</style>\n",
              "<table border=\"1\" class=\"dataframe\">\n",
              "  <thead>\n",
              "    <tr style=\"text-align: right;\">\n",
              "      <th></th>\n",
              "      <th>battery_power</th>\n",
              "      <th>blue</th>\n",
              "      <th>clock_speed</th>\n",
              "      <th>dual_sim</th>\n",
              "      <th>fc</th>\n",
              "      <th>four_g</th>\n",
              "      <th>int_memory</th>\n",
              "      <th>m_dep</th>\n",
              "      <th>mobile_wt</th>\n",
              "      <th>n_cores</th>\n",
              "      <th>pc</th>\n",
              "      <th>px_height</th>\n",
              "      <th>px_width</th>\n",
              "      <th>ram</th>\n",
              "      <th>sc_h</th>\n",
              "      <th>sc_w</th>\n",
              "      <th>talk_time</th>\n",
              "      <th>three_g</th>\n",
              "      <th>touch_screen</th>\n",
              "      <th>wifi</th>\n",
              "      <th>price_range</th>\n",
              "    </tr>\n",
              "  </thead>\n",
              "  <tbody>\n",
              "    <tr>\n",
              "      <th>0</th>\n",
              "      <td>842</td>\n",
              "      <td>0</td>\n",
              "      <td>2.2</td>\n",
              "      <td>0</td>\n",
              "      <td>1</td>\n",
              "      <td>0</td>\n",
              "      <td>7</td>\n",
              "      <td>0.6</td>\n",
              "      <td>188</td>\n",
              "      <td>2</td>\n",
              "      <td>2</td>\n",
              "      <td>20</td>\n",
              "      <td>756</td>\n",
              "      <td>2549</td>\n",
              "      <td>9</td>\n",
              "      <td>7</td>\n",
              "      <td>19</td>\n",
              "      <td>0</td>\n",
              "      <td>0</td>\n",
              "      <td>1</td>\n",
              "      <td>1</td>\n",
              "    </tr>\n",
              "    <tr>\n",
              "      <th>1</th>\n",
              "      <td>1021</td>\n",
              "      <td>1</td>\n",
              "      <td>0.5</td>\n",
              "      <td>1</td>\n",
              "      <td>0</td>\n",
              "      <td>1</td>\n",
              "      <td>53</td>\n",
              "      <td>0.7</td>\n",
              "      <td>136</td>\n",
              "      <td>3</td>\n",
              "      <td>6</td>\n",
              "      <td>905</td>\n",
              "      <td>1988</td>\n",
              "      <td>2631</td>\n",
              "      <td>17</td>\n",
              "      <td>3</td>\n",
              "      <td>7</td>\n",
              "      <td>1</td>\n",
              "      <td>1</td>\n",
              "      <td>0</td>\n",
              "      <td>2</td>\n",
              "    </tr>\n",
              "    <tr>\n",
              "      <th>2</th>\n",
              "      <td>563</td>\n",
              "      <td>1</td>\n",
              "      <td>0.5</td>\n",
              "      <td>1</td>\n",
              "      <td>2</td>\n",
              "      <td>1</td>\n",
              "      <td>41</td>\n",
              "      <td>0.9</td>\n",
              "      <td>145</td>\n",
              "      <td>5</td>\n",
              "      <td>6</td>\n",
              "      <td>1263</td>\n",
              "      <td>1716</td>\n",
              "      <td>2603</td>\n",
              "      <td>11</td>\n",
              "      <td>2</td>\n",
              "      <td>9</td>\n",
              "      <td>1</td>\n",
              "      <td>1</td>\n",
              "      <td>0</td>\n",
              "      <td>2</td>\n",
              "    </tr>\n",
              "    <tr>\n",
              "      <th>3</th>\n",
              "      <td>615</td>\n",
              "      <td>1</td>\n",
              "      <td>2.5</td>\n",
              "      <td>0</td>\n",
              "      <td>0</td>\n",
              "      <td>0</td>\n",
              "      <td>10</td>\n",
              "      <td>0.8</td>\n",
              "      <td>131</td>\n",
              "      <td>6</td>\n",
              "      <td>9</td>\n",
              "      <td>1216</td>\n",
              "      <td>1786</td>\n",
              "      <td>2769</td>\n",
              "      <td>16</td>\n",
              "      <td>8</td>\n",
              "      <td>11</td>\n",
              "      <td>1</td>\n",
              "      <td>0</td>\n",
              "      <td>0</td>\n",
              "      <td>2</td>\n",
              "    </tr>\n",
              "    <tr>\n",
              "      <th>4</th>\n",
              "      <td>1821</td>\n",
              "      <td>1</td>\n",
              "      <td>1.2</td>\n",
              "      <td>0</td>\n",
              "      <td>13</td>\n",
              "      <td>1</td>\n",
              "      <td>44</td>\n",
              "      <td>0.6</td>\n",
              "      <td>141</td>\n",
              "      <td>2</td>\n",
              "      <td>14</td>\n",
              "      <td>1208</td>\n",
              "      <td>1212</td>\n",
              "      <td>1411</td>\n",
              "      <td>8</td>\n",
              "      <td>2</td>\n",
              "      <td>15</td>\n",
              "      <td>1</td>\n",
              "      <td>1</td>\n",
              "      <td>0</td>\n",
              "      <td>1</td>\n",
              "    </tr>\n",
              "  </tbody>\n",
              "</table>\n",
              "</div>"
            ],
            "text/plain": [
              "   battery_power  blue  clock_speed  ...  touch_screen  wifi  price_range\n",
              "0            842     0          2.2  ...             0     1            1\n",
              "1           1021     1          0.5  ...             1     0            2\n",
              "2            563     1          0.5  ...             1     0            2\n",
              "3            615     1          2.5  ...             0     0            2\n",
              "4           1821     1          1.2  ...             1     0            1\n",
              "\n",
              "[5 rows x 21 columns]"
            ]
          },
          "metadata": {
            "tags": []
          },
          "execution_count": 2
        }
      ]
    },
    {
      "cell_type": "markdown",
      "metadata": {
        "id": "brxbK9WNMTuq"
      },
      "source": [
        "check distribution of target column"
      ]
    },
    {
      "cell_type": "code",
      "metadata": {
        "colab": {
          "base_uri": "https://localhost:8080/"
        },
        "id": "qb4MPTQ4MUeh",
        "outputId": "25cdd1bb-6d12-4b08-a0d5-d0b8a5da77bc"
      },
      "source": [
        "df['price_range'].value_counts()"
      ],
      "execution_count": null,
      "outputs": [
        {
          "output_type": "execute_result",
          "data": {
            "text/plain": [
              "3    500\n",
              "2    500\n",
              "1    500\n",
              "0    500\n",
              "Name: price_range, dtype: int64"
            ]
          },
          "metadata": {
            "tags": []
          },
          "execution_count": 3
        }
      ]
    },
    {
      "cell_type": "code",
      "metadata": {
        "colab": {
          "base_uri": "https://localhost:8080/"
        },
        "id": "RU7bqqE4MU4J",
        "outputId": "d375d614-9b9f-4577-dae7-6db371439015"
      },
      "source": [
        "df['price_range'].value_counts()/np.float(len(df))"
      ],
      "execution_count": null,
      "outputs": [
        {
          "output_type": "execute_result",
          "data": {
            "text/plain": [
              "3    0.25\n",
              "2    0.25\n",
              "1    0.25\n",
              "0    0.25\n",
              "Name: price_range, dtype: float64"
            ]
          },
          "metadata": {
            "tags": []
          },
          "execution_count": 4
        }
      ]
    },
    {
      "cell_type": "code",
      "metadata": {
        "id": "W_OOHX5OGmff"
      },
      "source": [
        "def newLine():\n",
        "  print(\" \")  \n",
        "  print(\"_____________________\")  \n",
        "  print(\" \") "
      ],
      "execution_count": null,
      "outputs": []
    },
    {
      "cell_type": "code",
      "metadata": {
        "colab": {
          "base_uri": "https://localhost:8080/"
        },
        "id": "UnNXMF5ZgXMP",
        "outputId": "7c8463aa-5a17-4aaa-a243-840f63c35e53"
      },
      "source": [
        "print(df.isnull().sum().max())\n",
        "newLine()\n",
        "print(df.info())"
      ],
      "execution_count": null,
      "outputs": [
        {
          "output_type": "stream",
          "text": [
            "0\n",
            " \n",
            "_____________________\n",
            " \n",
            "<class 'pandas.core.frame.DataFrame'>\n",
            "RangeIndex: 2000 entries, 0 to 1999\n",
            "Data columns (total 21 columns):\n",
            " #   Column         Non-Null Count  Dtype  \n",
            "---  ------         --------------  -----  \n",
            " 0   battery_power  2000 non-null   int64  \n",
            " 1   blue           2000 non-null   int64  \n",
            " 2   clock_speed    2000 non-null   float64\n",
            " 3   dual_sim       2000 non-null   int64  \n",
            " 4   fc             2000 non-null   int64  \n",
            " 5   four_g         2000 non-null   int64  \n",
            " 6   int_memory     2000 non-null   int64  \n",
            " 7   m_dep          2000 non-null   float64\n",
            " 8   mobile_wt      2000 non-null   int64  \n",
            " 9   n_cores        2000 non-null   int64  \n",
            " 10  pc             2000 non-null   int64  \n",
            " 11  px_height      2000 non-null   int64  \n",
            " 12  px_width       2000 non-null   int64  \n",
            " 13  ram            2000 non-null   int64  \n",
            " 14  sc_h           2000 non-null   int64  \n",
            " 15  sc_w           2000 non-null   int64  \n",
            " 16  talk_time      2000 non-null   int64  \n",
            " 17  three_g        2000 non-null   int64  \n",
            " 18  touch_screen   2000 non-null   int64  \n",
            " 19  wifi           2000 non-null   int64  \n",
            " 20  price_range    2000 non-null   int64  \n",
            "dtypes: float64(2), int64(19)\n",
            "memory usage: 328.2 KB\n",
            "None\n"
          ],
          "name": "stdout"
        }
      ]
    },
    {
      "cell_type": "code",
      "metadata": {
        "id": "xawdOMDGxd0K"
      },
      "source": [
        "df=df.rename(index=str, columns={\"battery_power\": \"Battery Power\",\n",
        "                                 \"blue\": \"Bluetooth\",\n",
        "                                 \"clock_speed\":\"Clock Speed\",\n",
        "                                 \"dual_sim\":\"Dual Sim\",\n",
        "                                 \"fc\":\"Front Camera MP\",\n",
        "                                 \"four_g\":\"4G\",\n",
        "                                 \"int_memory\":\"Internal Memory(GB)\",\n",
        "                                 \"m_dep\":\"Mobile Depth(CM)\",\n",
        "                                 \"mobile_wt\":\"Weight\",\n",
        "                                 \"n_cores\":\"Number of cores\",\n",
        "                                 \"pc\":\"Primary Camera MP\",\n",
        "                                 \"px_height\":\"Pixel R. Height\",\n",
        "                                 \"px_width\":\"Pixel R. Width\",\n",
        "                                 \"ram\":\"RAM(MB)\",\n",
        "                                 \"sc_h\":\"Screen Height(cm)\",\n",
        "                                 \"sc_w\":\"Screen Width\",\n",
        "                                 \"talk_time\":\"Longest Battery Charge\",\n",
        "                                 \"three_g\":\"3G\",\n",
        "                                 \"touch_screen\":\"Touch Screen\",\n",
        "                                 \"wifi\":\"WIFI\"})"
      ],
      "execution_count": null,
      "outputs": []
    },
    {
      "cell_type": "code",
      "metadata": {
        "colab": {
          "base_uri": "https://localhost:8080/"
        },
        "id": "Kfgw5rKhGAoP",
        "outputId": "5f066e89-20d7-4a4a-b5c7-d2dddb959273"
      },
      "source": [
        "df.isnull().any()"
      ],
      "execution_count": null,
      "outputs": [
        {
          "output_type": "execute_result",
          "data": {
            "text/plain": [
              "Battery Power             False\n",
              "Bluetooth                 False\n",
              "Clock Speed               False\n",
              "Dual Sim                  False\n",
              "Front Camera MP           False\n",
              "4G                        False\n",
              "Internal Memory(GB)       False\n",
              "Mobile Depth(CM)          False\n",
              "Weight                    False\n",
              "Number of cores           False\n",
              "Primary Camera MP         False\n",
              "Pixel R. Height           False\n",
              "Pixel R. Width            False\n",
              "RAM(MB)                   False\n",
              "Screen Height(cm)         False\n",
              "Screen Width              False\n",
              "Longest Battery Charge    False\n",
              "3G                        False\n",
              "Touch Screen              False\n",
              "WIFI                      False\n",
              "price_range               False\n",
              "dtype: bool"
            ]
          },
          "metadata": {
            "tags": []
          },
          "execution_count": 10
        }
      ]
    },
    {
      "cell_type": "markdown",
      "metadata": {
        "id": "VMhQtAPafwD8"
      },
      "source": [
        "check for missing value with ***missingno*** lib"
      ]
    },
    {
      "cell_type": "code",
      "metadata": {
        "colab": {
          "base_uri": "https://localhost:8080/",
          "height": 773
        },
        "id": "zT7FMVw5HhxV",
        "outputId": "4d091df1-4452-4c34-a32d-456dee3ece2b"
      },
      "source": [
        "msno.bar(df)\n",
        "plt.show()"
      ],
      "execution_count": null,
      "outputs": [
        {
          "output_type": "display_data",
          "data": {
            "image/png": "[encoded data removed]",
            "text/plain": [
              "<Figure size 1728x720 with 3 Axes>"
            ]
          },
          "metadata": {
            "tags": [],
            "needs_background": "light"
          }
        }
      ]
    },
    {
      "cell_type": "markdown",
      "metadata": {
        "id": "rJUSuR-wgK8F"
      },
      "source": [
        "find correlation between features"
      ]
    },
    {
      "cell_type": "code",
      "metadata": {
        "colab": {
          "base_uri": "https://localhost:8080/",
          "height": 733
        },
        "id": "Pgp4uwdZM011",
        "outputId": "5ee40bdb-784b-4a5f-8bbf-a56a2863f933"
      },
      "source": [
        "corrMatrix= df.corr()\n",
        "f,ax = plt.subplots(figsize=(12,10))\n",
        "r=sns.heatmap(corrMatrix ,cmap='Purples', annot_kws={'size':8})\n",
        "r.set_title('Correlation')"
      ],
      "execution_count": null,
      "outputs": [
        {
          "output_type": "execute_result",
          "data": {
            "text/plain": [
              "Text(0.5, 1.0, 'Correlation')"
            ]
          },
          "metadata": {
            "tags": []
          },
          "execution_count": 15
        },
        {
          "output_type": "display_data",
          "data": {
            "image/png": "[encoded data removed]",
            "text/plain": [
              "<Figure size 864x720 with 2 Axes>"
            ]
          },
          "metadata": {
            "tags": [],
            "needs_background": "light"
          }
        }
      ]
    },
    {
      "cell_type": "markdown",
      "metadata": {
        "id": "9xNj4kt4HRIY"
      },
      "source": [
        "sort feature with the most relation with price"
      ]
    },
    {
      "cell_type": "code",
      "metadata": {
        "colab": {
          "base_uri": "https://localhost:8080/"
        },
        "id": "WVI1b_f6GZJE",
        "outputId": "1602e17b-7bb6-406a-99bc-7c83718acfde"
      },
      "source": [
        "corrMatrix.sort_values(by=['price_range'],ascending=False).iloc[0].sort_values(ascending=False)"
      ],
      "execution_count": null,
      "outputs": [
        {
          "output_type": "execute_result",
          "data": {
            "text/plain": [
              "price_range               1.000000\n",
              "RAM(MB)                   0.917046\n",
              "Battery Power             0.200723\n",
              "Pixel R. Width            0.165818\n",
              "Pixel R. Height           0.148858\n",
              "Internal Memory(GB)       0.044435\n",
              "Screen Width              0.038711\n",
              "Primary Camera MP         0.033599\n",
              "3G                        0.023611\n",
              "Screen Height(cm)         0.022986\n",
              "Front Camera MP           0.021998\n",
              "Longest Battery Charge    0.021859\n",
              "Bluetooth                 0.020573\n",
              "WIFI                      0.018785\n",
              "Dual Sim                  0.017444\n",
              "4G                        0.014772\n",
              "Number of cores           0.004399\n",
              "Mobile Depth(CM)          0.000853\n",
              "Clock Speed              -0.006606\n",
              "Weight                   -0.030302\n",
              "Touch Screen             -0.030411\n",
              "Name: price_range, dtype: float64"
            ]
          },
          "metadata": {
            "tags": []
          },
          "execution_count": 13
        }
      ]
    },
    {
      "cell_type": "markdown",
      "metadata": {
        "id": "tdxw2fuTORmf"
      },
      "source": [
        "there is no need to handle dummy variable or missing values"
      ]
    },
    {
      "cell_type": "markdown",
      "metadata": {
        "id": "aKnCeytVczMR"
      },
      "source": [
        "splite sample data to train and test "
      ]
    },
    {
      "cell_type": "code",
      "metadata": {
        "id": "eWN3wPytYeZK"
      },
      "source": [
        "y = df['price_range'].values\n",
        "x_data = df.drop([\"price_range\"],axis=1)\n",
        "x=(x_data-np.min(x_data))/(np.max(x_data)-np.min(np.min(x_data)))\n",
        "x_train , x_test , y_train , y_test = train_test_split(x,y,test_size=0.2,random_state=1)"
      ],
      "execution_count": null,
      "outputs": []
    },
    {
      "cell_type": "code",
      "metadata": {
        "colab": {
          "base_uri": "https://localhost:8080/",
          "height": 417
        },
        "id": "NVdIvAIIc48r",
        "outputId": "6be54920-31a9-4381-f5f8-c87e9310fd08"
      },
      "source": [
        "from yellowbrick.target import ClassBalance\n",
        "visualizer = ClassBalance(labels=[0, 1, 2,3])\n",
        "visualizer.fit(y_train, y_test)\n",
        "visualizer.poof()"
      ],
      "execution_count": null,
      "outputs": [
        {
          "output_type": "stream",
          "text": [
            "/usr/local/lib/python3.7/dist-packages/sklearn/utils/deprecation.py:144: FutureWarning: The sklearn.metrics.classification module is  deprecated in version 0.22 and will be removed in version 0.24. The corresponding classes / functions should instead be imported from sklearn.metrics. Anything that cannot be imported from sklearn.metrics is now part of the private API.\n",
            "  warnings.warn(message, FutureWarning)\n"
          ],
          "name": "stderr"
        },
        {
          "output_type": "display_data",
          "data": {
            "image/png": "[encoded data removed]",
            "text/plain": [
              "<Figure size 576x396 with 1 Axes>"
            ]
          },
          "metadata": {
            "tags": []
          }
        }
      ]
    },
    {
      "cell_type": "markdown",
      "metadata": {
        "id": "YjNxF4-_dJXt"
      },
      "source": [
        "first SVM model"
      ]
    },
    {
      "cell_type": "code",
      "metadata": {
        "colab": {
          "base_uri": "https://localhost:8080/"
        },
        "id": "4XkCHpTbdI5d",
        "outputId": "9b715d92-28be-495c-92f8-74f4d7dbd586"
      },
      "source": [
        "svm=SVC(random_state=1)\n",
        "svm.fit(x_train,y_train)\n",
        "\n",
        "print(\"train accuracy: \",svm.score(x_train,y_train))\n",
        "print(\"test accuracy: \",svm.score(x_test,y_test))"
      ],
      "execution_count": null,
      "outputs": [
        {
          "output_type": "stream",
          "text": [
            "train accuracy:  0.965\n",
            "test accuracy:  0.825\n"
          ],
          "name": "stdout"
        }
      ]
    },
    {
      "cell_type": "markdown",
      "metadata": {
        "id": "Rh2Mq0U8QLlK"
      },
      "source": [
        "f_classif to find the best features\n",
        "\n",
        "1.   List item\n",
        "2.   List item\n",
        "\n",
        "\n"
      ]
    },
    {
      "cell_type": "code",
      "metadata": {
        "colab": {
          "base_uri": "https://localhost:8080/",
          "height": 396
        },
        "id": "QqyYvlJJvwEz",
        "outputId": "cca65803-57bf-4dac-b1d9-ff1529ddd75b"
      },
      "source": [
        "from sklearn.feature_selection import SelectKBest\n",
        "from sklearn.feature_selection import f_classif\n",
        "accuracy_list_train = []\n",
        "k=np.arange(1,21,1)\n",
        "for each in k:\n",
        "    x_new = SelectKBest(f_classif, k=each).fit_transform(x_train, y_train)\n",
        "    svm.fit(x_new,y_train)\n",
        "    accuracy_list_train.append(svm.score(x_new,y_train))   \n",
        "    \n",
        "plt.plot(k,accuracy_list_train,color=\"green\",label=\"train\")\n",
        "plt.xlabel(\"k values\")\n",
        "plt.ylabel(\"train accuracy\")\n",
        "plt.legend()\n",
        "plt.show()\n",
        "\n",
        "d = {'best features number': k, 'train_score': accuracy_list_train}\n",
        "df = pd.DataFrame(data=d)\n",
        "print(\"max accuracy:\",df[\"train_score\"].max())\n",
        "print(\"max accuracy id:\",df[\"train_score\"].idxmax())"
      ],
      "execution_count": null,
      "outputs": [
        {
          "output_type": "display_data",
          "data": {
            "image/png": "[encoded data removed]",
            "text/plain": [
              "<Figure size 576x396 with 1 Axes>"
            ]
          },
          "metadata": {
            "tags": []
          }
        },
        {
          "output_type": "stream",
          "text": [
            "max accuracy: 0.970625\n",
            "max accuracy id: 6\n"
          ],
          "name": "stdout"
        }
      ]
    },
    {
      "cell_type": "markdown",
      "metadata": {
        "id": "hnXmgi2uQflQ"
      },
      "source": [
        "better accuracy"
      ]
    },
    {
      "cell_type": "markdown",
      "metadata": {
        "id": "hDsCBdX9cRdP"
      },
      "source": [
        "find the 6 best features"
      ]
    },
    {
      "cell_type": "code",
      "metadata": {
        "colab": {
          "base_uri": "https://localhost:8080/"
        },
        "id": "tLs3kkUbbtWy",
        "outputId": "2b1e0333-8544-4616-b1b5-a0d8d4b06b8e"
      },
      "source": [
        "selector = SelectKBest(f_classif, k = 6)\n",
        "x_new = selector.fit_transform(x_train, y_train)\n",
        "x_new_test=selector.fit_transform(x_test,y_test)\n",
        "names_train = x_train.columns.values[selector.get_support()]\n",
        "names_test = x_test.columns.values[selector.get_support()]\n",
        "print(\"x train features:\",names_train)\n",
        "print(\"x test features:\",names_test)"
      ],
      "execution_count": null,
      "outputs": [
        {
          "output_type": "stream",
          "text": [
            "x train features: ['Battery Power' 'Internal Memory(GB)' 'Weight' 'Pixel R. Height'\n",
            " 'Pixel R. Width' 'RAM(MB)']\n",
            "x test features: ['Battery Power' 'Internal Memory(GB)' 'Weight' 'Pixel R. Height'\n",
            " 'Pixel R. Width' 'RAM(MB)']\n"
          ],
          "name": "stdout"
        }
      ]
    },
    {
      "cell_type": "markdown",
      "metadata": {
        "id": "VyVnqrhVRELI"
      },
      "source": [
        "linear kernel and diffrent C"
      ]
    },
    {
      "cell_type": "code",
      "metadata": {
        "colab": {
          "base_uri": "https://localhost:8080/"
        },
        "id": "qHv05UhgQ4ug",
        "outputId": "3c94f447-fddd-43d4-b7ed-d2367eb95469"
      },
      "source": [
        "svm_model=SVC(C=1,decision_function_shape=\"ovo\",gamma=\"auto\",kernel=\"linear\",random_state=1)\n",
        "svm_model.fit(x_new,y_train)\n",
        "print(\"train_accuracy:\",svm_model.score(x_new,y_train))\n",
        "print(\"test_accuracy: \", svm_model.score(x_new_test,y_test))"
      ],
      "execution_count": null,
      "outputs": [
        {
          "output_type": "stream",
          "text": [
            "train_accuracy: 0.96375\n",
            "test_accuracy:  0.31\n"
          ],
          "name": "stdout"
        }
      ]
    },
    {
      "cell_type": "code",
      "metadata": {
        "colab": {
          "base_uri": "https://localhost:8080/"
        },
        "id": "SKttM4ouc2LF",
        "outputId": "d020ccfb-8d18-4fc9-941a-e435964d77a5"
      },
      "source": [
        "svm_model=SVC(C=2,decision_function_shape=\"ovo\",gamma=\"auto\",kernel=\"linear\",random_state=1)\n",
        "svm_model.fit(x_new,y_train)\n",
        "print(\"train_accuracy:\",svm_model.score(x_new,y_train))\n",
        "print(\"test_accuracy: \", svm_model.score(x_new_test,y_test))"
      ],
      "execution_count": null,
      "outputs": [
        {
          "output_type": "stream",
          "text": [
            "train_accuracy: 0.965\n",
            "test_accuracy:  0.3125\n"
          ],
          "name": "stdout"
        }
      ]
    },
    {
      "cell_type": "code",
      "metadata": {
        "colab": {
          "base_uri": "https://localhost:8080/"
        },
        "id": "EAYanTBrRZ3Y",
        "outputId": "2a2d991a-5f7b-4571-dff5-00f63741df4b"
      },
      "source": [
        "svm_model=SVC(C=100,decision_function_shape=\"ovo\",gamma=\"auto\",kernel=\"linear\",random_state=1)\n",
        "svm_model.fit(x_new,y_train)\n",
        "print(\"train_accuracy:\",svm_model.score(x_new,y_train))\n",
        "print(\"test_accuracy: \", svm_model.score(x_new_test,y_test))"
      ],
      "execution_count": null,
      "outputs": [
        {
          "output_type": "stream",
          "text": [
            "train_accuracy: 0.975625\n",
            "test_accuracy:  0.3075\n"
          ],
          "name": "stdout"
        }
      ]
    },
    {
      "cell_type": "code",
      "metadata": {
        "colab": {
          "base_uri": "https://localhost:8080/"
        },
        "id": "QDXswOhwQ81E",
        "outputId": "e2e5d733-8a57-4e1f-d4c5-806a94ccd06c"
      },
      "source": [
        "svm_model=SVC(C=1000,decision_function_shape=\"ovo\",gamma=\"auto\",kernel=\"linear\",random_state=1)\n",
        "svm_model.fit(x_new,y_train)\n",
        "print(\"train_accuracy:\",svm_model.score(x_new,y_train))\n",
        "print(\"test_accuracy: \", svm_model.score(x_new_test,y_test))"
      ],
      "execution_count": null,
      "outputs": [
        {
          "output_type": "stream",
          "text": [
            "train_accuracy: 0.979375\n",
            "test_accuracy:  0.305\n"
          ],
          "name": "stdout"
        }
      ]
    },
    {
      "cell_type": "markdown",
      "metadata": {
        "id": "YoF7-xYrRSSS"
      },
      "source": [
        "RBF kernel and diffrent C"
      ]
    },
    {
      "cell_type": "code",
      "metadata": {
        "colab": {
          "base_uri": "https://localhost:8080/"
        },
        "id": "6ITX_3q-QlAp",
        "outputId": "4ccf35ce-d5dc-4a28-9c0e-207395aa907a"
      },
      "source": [
        "svm_model=SVC(C=1,decision_function_shape=\"ovo\",gamma=\"auto\",kernel=\"rbf\",random_state=1)\n",
        "svm_model.fit(x_new,y_train)\n",
        "print(\"train_accuracy:\",svm_model.score(x_new,y_train))\n",
        "print(\"test_accuracy: \", svm_model.score(x_new_test,y_test))"
      ],
      "execution_count": null,
      "outputs": [
        {
          "output_type": "stream",
          "text": [
            "train_accuracy: 0.95875\n",
            "test_accuracy:  0.31\n"
          ],
          "name": "stdout"
        }
      ]
    },
    {
      "cell_type": "code",
      "metadata": {
        "colab": {
          "base_uri": "https://localhost:8080/"
        },
        "id": "eP9WaP-RQUAs",
        "outputId": "f9a74561-c171-4699-fe3b-39318c8c1bb1"
      },
      "source": [
        "svm_model=SVC(C=2,decision_function_shape=\"ovo\",gamma=\"auto\",kernel=\"rbf\",random_state=1)\n",
        "svm_model.fit(x_new,y_train)\n",
        "print(\"train_accuracy:\",svm_model.score(x_new,y_train))\n",
        "print(\"test_accuracy: \", svm_model.score(x_new_test,y_test))"
      ],
      "execution_count": null,
      "outputs": [
        {
          "output_type": "stream",
          "text": [
            "train_accuracy: 0.960625\n",
            "test_accuracy:  0.315\n"
          ],
          "name": "stdout"
        }
      ]
    },
    {
      "cell_type": "code",
      "metadata": {
        "colab": {
          "base_uri": "https://localhost:8080/"
        },
        "id": "HGqsVuMRQcxu",
        "outputId": "ec4194e4-5f13-4d88-e3a1-599a3022747e"
      },
      "source": [
        "svm_model=SVC(C=100,decision_function_shape=\"ovo\",gamma=\"auto\",kernel=\"rbf\",random_state=1)\n",
        "svm_model.fit(x_new,y_train)\n",
        "print(\"train_accuracy:\",svm_model.score(x_new,y_train))\n",
        "print(\"test_accuracy: \", svm_model.score(x_new_test,y_test))"
      ],
      "execution_count": null,
      "outputs": [
        {
          "output_type": "stream",
          "text": [
            "train_accuracy: 0.97875\n",
            "test_accuracy:  0.3025\n"
          ],
          "name": "stdout"
        }
      ]
    },
    {
      "cell_type": "code",
      "metadata": {
        "colab": {
          "base_uri": "https://localhost:8080/"
        },
        "id": "vlij5ZoHQtWq",
        "outputId": "f225a14a-3a6f-4cc9-8dbf-ef06b2a9c8d8"
      },
      "source": [
        "svm_model=SVC(C=1000,decision_function_shape=\"ovo\",gamma=\"auto\",kernel=\"rbf\",random_state=1)\n",
        "svm_model.fit(x_new,y_train)\n",
        "print(\"train_accuracy:\",svm_model.score(x_new,y_train))\n",
        "print(\"test_accuracy: \", svm_model.score(x_new_test,y_test))"
      ],
      "execution_count": null,
      "outputs": [
        {
          "output_type": "stream",
          "text": [
            "train_accuracy: 0.9875\n",
            "test_accuracy:  0.305\n"
          ],
          "name": "stdout"
        }
      ]
    },
    {
      "cell_type": "markdown",
      "metadata": {
        "id": "AG4POqCSRv4P"
      },
      "source": [
        "polynomial kernel and diffrent C"
      ]
    },
    {
      "cell_type": "code",
      "metadata": {
        "colab": {
          "base_uri": "https://localhost:8080/"
        },
        "id": "KIYlO2fHRwgb",
        "outputId": "3c826297-b067-421b-a2a9-e798b79f6731"
      },
      "source": [
        "svm_model=SVC(C=1,decision_function_shape=\"ovo\",gamma=\"auto\",kernel=\"poly\",random_state=1)\n",
        "svm_model.fit(x_new,y_train)\n",
        "print(\"train_accuracy:\",svm_model.score(x_new,y_train))\n",
        "print(\"test_accuracy: \", svm_model.score(x_new_test,y_test))"
      ],
      "execution_count": null,
      "outputs": [
        {
          "output_type": "stream",
          "text": [
            "train_accuracy: 0.4325\n",
            "test_accuracy:  0.3075\n"
          ],
          "name": "stdout"
        }
      ]
    },
    {
      "cell_type": "code",
      "metadata": {
        "colab": {
          "base_uri": "https://localhost:8080/"
        },
        "id": "qy849le9R-SW",
        "outputId": "221676f2-74a5-40d8-c753-72d295f66332"
      },
      "source": [
        "svm_model=SVC(C=100,decision_function_shape=\"ovo\",gamma=\"auto\",kernel=\"poly\",random_state=1)\n",
        "svm_model.fit(x_new,y_train)\n",
        "print(\"train_accuracy:\",svm_model.score(x_new,y_train))\n",
        "print(\"test_accuracy: \", svm_model.score(x_new_test,y_test))"
      ],
      "execution_count": null,
      "outputs": [
        {
          "output_type": "stream",
          "text": [
            "train_accuracy: 0.94\n",
            "test_accuracy:  0.32\n"
          ],
          "name": "stdout"
        }
      ]
    },
    {
      "cell_type": "code",
      "metadata": {
        "colab": {
          "base_uri": "https://localhost:8080/"
        },
        "id": "JWSwTc2bSB5H",
        "outputId": "8586c76e-68f1-406d-e00d-3d677ab18365"
      },
      "source": [
        "svm_model=SVC(C=1000,decision_function_shape=\"ovo\",gamma=\"auto\",kernel=\"poly\",random_state=1)\n",
        "svm_model.fit(x_new,y_train)\n",
        "print(\"train_accuracy:\",svm_model.score(x_new,y_train))\n",
        "print(\"test_accuracy: \", svm_model.score(x_new_test,y_test))"
      ],
      "execution_count": null,
      "outputs": [
        {
          "output_type": "stream",
          "text": [
            "train_accuracy: 0.965\n",
            "test_accuracy:  0.3075\n"
          ],
          "name": "stdout"
        }
      ]
    },
    {
      "cell_type": "markdown",
      "metadata": {
        "id": "mZGw0avhSIBb"
      },
      "source": [
        "sigmoid kernel and diffrent C"
      ]
    },
    {
      "cell_type": "code",
      "metadata": {
        "colab": {
          "base_uri": "https://localhost:8080/"
        },
        "id": "pDJbey6aSIjq",
        "outputId": "11f18f15-998a-4f5f-9497-0d522de9fab5"
      },
      "source": [
        "svm_model=SVC(C=1,decision_function_shape=\"ovo\",gamma=\"auto\",kernel=\"sigmoid\",random_state=1)\n",
        "svm_model.fit(x_new,y_train)\n",
        "print(\"train_accuracy:\",svm_model.score(x_new,y_train))\n",
        "print(\"test_accuracy: \", svm_model.score(x_new_test,y_test))"
      ],
      "execution_count": null,
      "outputs": [
        {
          "output_type": "stream",
          "text": [
            "train_accuracy: 0.950625\n",
            "test_accuracy:  0.3125\n"
          ],
          "name": "stdout"
        }
      ]
    },
    {
      "cell_type": "code",
      "metadata": {
        "colab": {
          "base_uri": "https://localhost:8080/"
        },
        "id": "4Ww_1UwZSTXe",
        "outputId": "50d0f6e4-67c3-4457-81c4-9c1730a935cc"
      },
      "source": [
        "svm_model=SVC(C=100,decision_function_shape=\"ovo\",gamma=\"auto\",kernel=\"sigmoid\",random_state=1)\n",
        "svm_model.fit(x_new,y_train)\n",
        "print(\"train_accuracy:\",svm_model.score(x_new,y_train))\n",
        "print(\"test_accuracy: \", svm_model.score(x_new_test,y_test))"
      ],
      "execution_count": null,
      "outputs": [
        {
          "output_type": "stream",
          "text": [
            "train_accuracy: 0.951875\n",
            "test_accuracy:  0.3075\n"
          ],
          "name": "stdout"
        }
      ]
    },
    {
      "cell_type": "code",
      "metadata": {
        "colab": {
          "base_uri": "https://localhost:8080/"
        },
        "id": "SSlP2hFmSV1W",
        "outputId": "27727693-a9fe-4753-e589-191c3596261d"
      },
      "source": [
        "svm_model=SVC(C=1000,decision_function_shape=\"ovo\",gamma=\"auto\",kernel=\"sigmoid\",random_state=1)\n",
        "svm_model.fit(x_new,y_train)\n",
        "print(\"train_accuracy:\",svm_model.score(x_new,y_train))\n",
        "print(\"test_accuracy: \", svm_model.score(x_new_test,y_test))"
      ],
      "execution_count": null,
      "outputs": [
        {
          "output_type": "stream",
          "text": [
            "train_accuracy: 0.91625\n",
            "test_accuracy:  0.2925\n"
          ],
          "name": "stdout"
        }
      ]
    }
  ]
}