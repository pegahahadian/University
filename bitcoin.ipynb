{
  "nbformat": 4,
  "nbformat_minor": 0,
  "metadata": {
    "colab": {
      "name": "bitcoin.ipynb",
      "provenance": [],
      "collapsed_sections": [],
      "include_colab_link": true
    },
    "kernelspec": {
      "name": "python3",
      "display_name": "Python 3"
    },
    "language_info": {
      "name": "python"
    }
  },
  "cells": [
    {
      "cell_type": "markdown",
      "metadata": {
        "id": "view-in-github",
        "colab_type": "text"
      },
      "source": [
        "<a href=\"https://colab.research.google.com/github/pegahahadian/University_SBU/blob/main/bitcoin.ipynb\" target=\"_parent\"><img src=\"https://colab.research.google.com/assets/colab-badge.svg\" alt=\"Open In Colab\"/></a>"
      ]
    },
    {
      "cell_type": "code",
      "metadata": {
        "colab": {
          "base_uri": "https://localhost:8080/"
        },
        "id": "lRuOQqE3FijW",
        "outputId": "65a30dec-a623-483c-e603-416182e134ce"
      },
      "source": [
        "import math\n",
        "import numpy as np\n",
        "import pandas as pd\n",
        "from datetime import datetime\n",
        "import matplotlib.pyplot as plt\n",
        "\n",
        "import tensorflow as tf\n",
        "from tensorflow.keras import backend as K\n",
        "from tensorflow.keras.layers import Lambda\n",
        "from tensorflow.keras.models import Sequential\n",
        "from tensorflow.keras.layers import Dense, LSTM, Activation\n",
        "\n",
        "from sklearn import preprocessing\n",
        "from sklearn import utils\n",
        "from sklearn.svm import SVR\n",
        "from sklearn.linear_model import Lasso\n",
        "from sklearn.linear_model import Ridge\n",
        "from sklearn.linear_model import LinearRegression\n",
        "from sklearn.model_selection import train_test_split\n",
        "from sklearn.preprocessing import MinMaxScaler\n",
        "from sklearn.metrics import mean_squared_error\n",
        "from sklearn.ensemble import VotingRegressor\n",
        "from sklearn.ensemble import BaggingRegressor\n",
        "from sklearn.ensemble import AdaBoostRegressor\n",
        "from sklearn.ensemble import RandomForestRegressor\n",
        "\n",
        "\n",
        "from google.colab import drive\n",
        "drive.mount('/content/gdrive')"
      ],
      "execution_count": null,
      "outputs": [
        {
          "output_type": "stream",
          "text": [
            "Drive already mounted at /content/gdrive; to attempt to forcibly remount, call drive.mount(\"/content/gdrive\", force_remount=True).\n"
          ],
          "name": "stdout"
        }
      ]
    },
    {
      "cell_type": "code",
      "metadata": {
        "colab": {
          "base_uri": "https://localhost:8080/",
          "height": 415
        },
        "id": "6sGLxgVcGQcJ",
        "outputId": "a2b7783a-51d3-4c17-bbdc-4ab3088c9c05"
      },
      "source": [
        "data = pd.read_csv('/content/gdrive/My Drive/Bitcoin1DHistoricalData.csv')\n",
        "data"
      ],
      "execution_count": null,
      "outputs": [
        {
          "output_type": "execute_result",
          "data": {
            "text/html": [
              "<div>\n",
              "<style scoped>\n",
              "    .dataframe tbody tr th:only-of-type {\n",
              "        vertical-align: middle;\n",
              "    }\n",
              "\n",
              "    .dataframe tbody tr th {\n",
              "        vertical-align: top;\n",
              "    }\n",
              "\n",
              "    .dataframe thead th {\n",
              "        text-align: right;\n",
              "    }\n",
              "</style>\n",
              "<table border=\"1\" class=\"dataframe\">\n",
              "  <thead>\n",
              "    <tr style=\"text-align: right;\">\n",
              "      <th></th>\n",
              "      <th>Date</th>\n",
              "      <th>Price</th>\n",
              "      <th>Open</th>\n",
              "      <th>High</th>\n",
              "      <th>Low</th>\n",
              "      <th>Vol.</th>\n",
              "      <th>Change %</th>\n",
              "    </tr>\n",
              "  </thead>\n",
              "  <tbody>\n",
              "    <tr>\n",
              "      <th>0</th>\n",
              "      <td>May 01, 2021</td>\n",
              "      <td>57,807.1</td>\n",
              "      <td>57,719.1</td>\n",
              "      <td>58,449.4</td>\n",
              "      <td>57,029.5</td>\n",
              "      <td>63.41K</td>\n",
              "      <td>0.15%</td>\n",
              "    </tr>\n",
              "    <tr>\n",
              "      <th>1</th>\n",
              "      <td>Apr 30, 2021</td>\n",
              "      <td>57,720.3</td>\n",
              "      <td>53,562.3</td>\n",
              "      <td>57,925.6</td>\n",
              "      <td>53,088.7</td>\n",
              "      <td>103.74K</td>\n",
              "      <td>7.77%</td>\n",
              "    </tr>\n",
              "    <tr>\n",
              "      <th>2</th>\n",
              "      <td>Apr 29, 2021</td>\n",
              "      <td>53,560.8</td>\n",
              "      <td>54,838.6</td>\n",
              "      <td>55,173.7</td>\n",
              "      <td>52,400.0</td>\n",
              "      <td>83.90K</td>\n",
              "      <td>-2.34%</td>\n",
              "    </tr>\n",
              "    <tr>\n",
              "      <th>3</th>\n",
              "      <td>Apr 28, 2021</td>\n",
              "      <td>54,841.4</td>\n",
              "      <td>55,036.0</td>\n",
              "      <td>56,419.9</td>\n",
              "      <td>53,876.4</td>\n",
              "      <td>86.96K</td>\n",
              "      <td>-0.35%</td>\n",
              "    </tr>\n",
              "    <tr>\n",
              "      <th>4</th>\n",
              "      <td>Apr 27, 2021</td>\n",
              "      <td>55,036.5</td>\n",
              "      <td>54,011.1</td>\n",
              "      <td>55,427.8</td>\n",
              "      <td>53,345.0</td>\n",
              "      <td>84.08K</td>\n",
              "      <td>1.88%</td>\n",
              "    </tr>\n",
              "    <tr>\n",
              "      <th>...</th>\n",
              "      <td>...</td>\n",
              "      <td>...</td>\n",
              "      <td>...</td>\n",
              "      <td>...</td>\n",
              "      <td>...</td>\n",
              "      <td>...</td>\n",
              "      <td>...</td>\n",
              "    </tr>\n",
              "    <tr>\n",
              "      <th>3936</th>\n",
              "      <td>Jul 22, 2010</td>\n",
              "      <td>0.1</td>\n",
              "      <td>0.1</td>\n",
              "      <td>0.1</td>\n",
              "      <td>0.1</td>\n",
              "      <td>2.16K</td>\n",
              "      <td>0.00%</td>\n",
              "    </tr>\n",
              "    <tr>\n",
              "      <th>3937</th>\n",
              "      <td>Jul 21, 2010</td>\n",
              "      <td>0.1</td>\n",
              "      <td>0.1</td>\n",
              "      <td>0.1</td>\n",
              "      <td>0.1</td>\n",
              "      <td>0.58K</td>\n",
              "      <td>0.00%</td>\n",
              "    </tr>\n",
              "    <tr>\n",
              "      <th>3938</th>\n",
              "      <td>Jul 20, 2010</td>\n",
              "      <td>0.1</td>\n",
              "      <td>0.1</td>\n",
              "      <td>0.1</td>\n",
              "      <td>0.1</td>\n",
              "      <td>0.26K</td>\n",
              "      <td>0.00%</td>\n",
              "    </tr>\n",
              "    <tr>\n",
              "      <th>3939</th>\n",
              "      <td>Jul 19, 2010</td>\n",
              "      <td>0.1</td>\n",
              "      <td>0.1</td>\n",
              "      <td>0.1</td>\n",
              "      <td>0.1</td>\n",
              "      <td>0.57K</td>\n",
              "      <td>0.00%</td>\n",
              "    </tr>\n",
              "    <tr>\n",
              "      <th>3940</th>\n",
              "      <td>Jul 18, 2010</td>\n",
              "      <td>0.1</td>\n",
              "      <td>0.0</td>\n",
              "      <td>0.1</td>\n",
              "      <td>0.1</td>\n",
              "      <td>0.08K</td>\n",
              "      <td>0.00%</td>\n",
              "    </tr>\n",
              "  </tbody>\n",
              "</table>\n",
              "<p>3941 rows × 7 columns</p>\n",
              "</div>"
            ],
            "text/plain": [
              "              Date     Price      Open      High       Low     Vol. Change %\n",
              "0     May 01, 2021  57,807.1  57,719.1  58,449.4  57,029.5   63.41K    0.15%\n",
              "1     Apr 30, 2021  57,720.3  53,562.3  57,925.6  53,088.7  103.74K    7.77%\n",
              "2     Apr 29, 2021  53,560.8  54,838.6  55,173.7  52,400.0   83.90K   -2.34%\n",
              "3     Apr 28, 2021  54,841.4  55,036.0  56,419.9  53,876.4   86.96K   -0.35%\n",
              "4     Apr 27, 2021  55,036.5  54,011.1  55,427.8  53,345.0   84.08K    1.88%\n",
              "...            ...       ...       ...       ...       ...      ...      ...\n",
              "3936  Jul 22, 2010       0.1       0.1       0.1       0.1    2.16K    0.00%\n",
              "3937  Jul 21, 2010       0.1       0.1       0.1       0.1    0.58K    0.00%\n",
              "3938  Jul 20, 2010       0.1       0.1       0.1       0.1    0.26K    0.00%\n",
              "3939  Jul 19, 2010       0.1       0.1       0.1       0.1    0.57K    0.00%\n",
              "3940  Jul 18, 2010       0.1       0.0       0.1       0.1    0.08K    0.00%\n",
              "\n",
              "[3941 rows x 7 columns]"
            ]
          },
          "metadata": {
            "tags": []
          },
          "execution_count": 3
        }
      ]
    },
    {
      "cell_type": "markdown",
      "metadata": {
        "id": "S5IjM1DMTDud"
      },
      "source": [
        "16)"
      ]
    },
    {
      "cell_type": "code",
      "metadata": {
        "colab": {
          "base_uri": "https://localhost:8080/"
        },
        "id": "fcOZk-v_GQwg",
        "outputId": "1b8b4403-50a1-4957-805b-20865d86aca4"
      },
      "source": [
        "def mdy_to_ymd(d):\n",
        "    return datetime.strptime(d, '%b %d, %Y').strftime('%Y-%m-%d')\n",
        "\n",
        "for i in range(0, 3941):\n",
        "  data['Date'][i] = mdy_to_ymd(data['Date'][i])\n",
        "\n",
        "data['Date']"
      ],
      "execution_count": null,
      "outputs": [
        {
          "output_type": "execute_result",
          "data": {
            "text/plain": [
              "0       2021-05-01\n",
              "1       2021-04-30\n",
              "2       2021-04-29\n",
              "3       2021-04-28\n",
              "4       2021-04-27\n",
              "           ...    \n",
              "3936    2010-07-22\n",
              "3937    2010-07-21\n",
              "3938    2010-07-20\n",
              "3939    2010-07-19\n",
              "3940    2010-07-18\n",
              "Name: Date, Length: 3941, dtype: object"
            ]
          },
          "metadata": {
            "tags": []
          },
          "execution_count": 4
        }
      ]
    },
    {
      "cell_type": "code",
      "metadata": {
        "colab": {
          "base_uri": "https://localhost:8080/",
          "height": 415
        },
        "id": "ela7kF1A1XkZ",
        "outputId": "cec57090-6f48-4e6a-e732-3400607bcadf"
      },
      "source": [
        "data = data.apply(lambda x: x.str.replace(',', ''))\n",
        "data['Vol.'] = data['Vol.'].str.replace(r'\\D','')\n",
        "data"
      ],
      "execution_count": null,
      "outputs": [
        {
          "output_type": "execute_result",
          "data": {
            "text/html": [
              "<div>\n",
              "<style scoped>\n",
              "    .dataframe tbody tr th:only-of-type {\n",
              "        vertical-align: middle;\n",
              "    }\n",
              "\n",
              "    .dataframe tbody tr th {\n",
              "        vertical-align: top;\n",
              "    }\n",
              "\n",
              "    .dataframe thead th {\n",
              "        text-align: right;\n",
              "    }\n",
              "</style>\n",
              "<table border=\"1\" class=\"dataframe\">\n",
              "  <thead>\n",
              "    <tr style=\"text-align: right;\">\n",
              "      <th></th>\n",
              "      <th>Date</th>\n",
              "      <th>Price</th>\n",
              "      <th>Open</th>\n",
              "      <th>High</th>\n",
              "      <th>Low</th>\n",
              "      <th>Vol.</th>\n",
              "      <th>Change %</th>\n",
              "    </tr>\n",
              "  </thead>\n",
              "  <tbody>\n",
              "    <tr>\n",
              "      <th>0</th>\n",
              "      <td>2021-05-01</td>\n",
              "      <td>57807.1</td>\n",
              "      <td>57719.1</td>\n",
              "      <td>58449.4</td>\n",
              "      <td>57029.5</td>\n",
              "      <td>6341</td>\n",
              "      <td>0.15%</td>\n",
              "    </tr>\n",
              "    <tr>\n",
              "      <th>1</th>\n",
              "      <td>2021-04-30</td>\n",
              "      <td>57720.3</td>\n",
              "      <td>53562.3</td>\n",
              "      <td>57925.6</td>\n",
              "      <td>53088.7</td>\n",
              "      <td>10374</td>\n",
              "      <td>7.77%</td>\n",
              "    </tr>\n",
              "    <tr>\n",
              "      <th>2</th>\n",
              "      <td>2021-04-29</td>\n",
              "      <td>53560.8</td>\n",
              "      <td>54838.6</td>\n",
              "      <td>55173.7</td>\n",
              "      <td>52400.0</td>\n",
              "      <td>8390</td>\n",
              "      <td>-2.34%</td>\n",
              "    </tr>\n",
              "    <tr>\n",
              "      <th>3</th>\n",
              "      <td>2021-04-28</td>\n",
              "      <td>54841.4</td>\n",
              "      <td>55036.0</td>\n",
              "      <td>56419.9</td>\n",
              "      <td>53876.4</td>\n",
              "      <td>8696</td>\n",
              "      <td>-0.35%</td>\n",
              "    </tr>\n",
              "    <tr>\n",
              "      <th>4</th>\n",
              "      <td>2021-04-27</td>\n",
              "      <td>55036.5</td>\n",
              "      <td>54011.1</td>\n",
              "      <td>55427.8</td>\n",
              "      <td>53345.0</td>\n",
              "      <td>8408</td>\n",
              "      <td>1.88%</td>\n",
              "    </tr>\n",
              "    <tr>\n",
              "      <th>...</th>\n",
              "      <td>...</td>\n",
              "      <td>...</td>\n",
              "      <td>...</td>\n",
              "      <td>...</td>\n",
              "      <td>...</td>\n",
              "      <td>...</td>\n",
              "      <td>...</td>\n",
              "    </tr>\n",
              "    <tr>\n",
              "      <th>3936</th>\n",
              "      <td>2010-07-22</td>\n",
              "      <td>0.1</td>\n",
              "      <td>0.1</td>\n",
              "      <td>0.1</td>\n",
              "      <td>0.1</td>\n",
              "      <td>216</td>\n",
              "      <td>0.00%</td>\n",
              "    </tr>\n",
              "    <tr>\n",
              "      <th>3937</th>\n",
              "      <td>2010-07-21</td>\n",
              "      <td>0.1</td>\n",
              "      <td>0.1</td>\n",
              "      <td>0.1</td>\n",
              "      <td>0.1</td>\n",
              "      <td>058</td>\n",
              "      <td>0.00%</td>\n",
              "    </tr>\n",
              "    <tr>\n",
              "      <th>3938</th>\n",
              "      <td>2010-07-20</td>\n",
              "      <td>0.1</td>\n",
              "      <td>0.1</td>\n",
              "      <td>0.1</td>\n",
              "      <td>0.1</td>\n",
              "      <td>026</td>\n",
              "      <td>0.00%</td>\n",
              "    </tr>\n",
              "    <tr>\n",
              "      <th>3939</th>\n",
              "      <td>2010-07-19</td>\n",
              "      <td>0.1</td>\n",
              "      <td>0.1</td>\n",
              "      <td>0.1</td>\n",
              "      <td>0.1</td>\n",
              "      <td>057</td>\n",
              "      <td>0.00%</td>\n",
              "    </tr>\n",
              "    <tr>\n",
              "      <th>3940</th>\n",
              "      <td>2010-07-18</td>\n",
              "      <td>0.1</td>\n",
              "      <td>0.0</td>\n",
              "      <td>0.1</td>\n",
              "      <td>0.1</td>\n",
              "      <td>008</td>\n",
              "      <td>0.00%</td>\n",
              "    </tr>\n",
              "  </tbody>\n",
              "</table>\n",
              "<p>3941 rows × 7 columns</p>\n",
              "</div>"
            ],
            "text/plain": [
              "            Date    Price     Open     High      Low   Vol. Change %\n",
              "0     2021-05-01  57807.1  57719.1  58449.4  57029.5   6341    0.15%\n",
              "1     2021-04-30  57720.3  53562.3  57925.6  53088.7  10374    7.77%\n",
              "2     2021-04-29  53560.8  54838.6  55173.7  52400.0   8390   -2.34%\n",
              "3     2021-04-28  54841.4  55036.0  56419.9  53876.4   8696   -0.35%\n",
              "4     2021-04-27  55036.5  54011.1  55427.8  53345.0   8408    1.88%\n",
              "...          ...      ...      ...      ...      ...    ...      ...\n",
              "3936  2010-07-22      0.1      0.1      0.1      0.1    216    0.00%\n",
              "3937  2010-07-21      0.1      0.1      0.1      0.1    058    0.00%\n",
              "3938  2010-07-20      0.1      0.1      0.1      0.1    026    0.00%\n",
              "3939  2010-07-19      0.1      0.1      0.1      0.1    057    0.00%\n",
              "3940  2010-07-18      0.1      0.0      0.1      0.1    008    0.00%\n",
              "\n",
              "[3941 rows x 7 columns]"
            ]
          },
          "metadata": {
            "tags": []
          },
          "execution_count": 5
        }
      ]
    },
    {
      "cell_type": "code",
      "metadata": {
        "colab": {
          "base_uri": "https://localhost:8080/",
          "height": 415
        },
        "id": "Nz0lQDpNpvDZ",
        "outputId": "8ff2dfcf-614d-4490-9517-53b3c292e6f8"
      },
      "source": [
        "data['High'] = data['High'] = pd.to_numeric(data['High'], errors='coerce')\n",
        "data['Open'] = data['Open'] = pd.to_numeric(data['Open'], errors='coerce')\n",
        "data['Low'] = data['Low'] = pd.to_numeric(data['Low'], errors='coerce')\n",
        "data['Vol.'] = data['Vol.'] = pd.to_numeric(data['Vol.'], errors='coerce')\n",
        "data['Price'] = data['Price'] = pd.to_numeric(data['Price'], errors='coerce')\n",
        "data"
      ],
      "execution_count": null,
      "outputs": [
        {
          "output_type": "execute_result",
          "data": {
            "text/html": [
              "<div>\n",
              "<style scoped>\n",
              "    .dataframe tbody tr th:only-of-type {\n",
              "        vertical-align: middle;\n",
              "    }\n",
              "\n",
              "    .dataframe tbody tr th {\n",
              "        vertical-align: top;\n",
              "    }\n",
              "\n",
              "    .dataframe thead th {\n",
              "        text-align: right;\n",
              "    }\n",
              "</style>\n",
              "<table border=\"1\" class=\"dataframe\">\n",
              "  <thead>\n",
              "    <tr style=\"text-align: right;\">\n",
              "      <th></th>\n",
              "      <th>Date</th>\n",
              "      <th>Price</th>\n",
              "      <th>Open</th>\n",
              "      <th>High</th>\n",
              "      <th>Low</th>\n",
              "      <th>Vol.</th>\n",
              "      <th>Change %</th>\n",
              "    </tr>\n",
              "  </thead>\n",
              "  <tbody>\n",
              "    <tr>\n",
              "      <th>0</th>\n",
              "      <td>2021-05-01</td>\n",
              "      <td>57807.1</td>\n",
              "      <td>57719.1</td>\n",
              "      <td>58449.4</td>\n",
              "      <td>57029.5</td>\n",
              "      <td>6341.0</td>\n",
              "      <td>0.15%</td>\n",
              "    </tr>\n",
              "    <tr>\n",
              "      <th>1</th>\n",
              "      <td>2021-04-30</td>\n",
              "      <td>57720.3</td>\n",
              "      <td>53562.3</td>\n",
              "      <td>57925.6</td>\n",
              "      <td>53088.7</td>\n",
              "      <td>10374.0</td>\n",
              "      <td>7.77%</td>\n",
              "    </tr>\n",
              "    <tr>\n",
              "      <th>2</th>\n",
              "      <td>2021-04-29</td>\n",
              "      <td>53560.8</td>\n",
              "      <td>54838.6</td>\n",
              "      <td>55173.7</td>\n",
              "      <td>52400.0</td>\n",
              "      <td>8390.0</td>\n",
              "      <td>-2.34%</td>\n",
              "    </tr>\n",
              "    <tr>\n",
              "      <th>3</th>\n",
              "      <td>2021-04-28</td>\n",
              "      <td>54841.4</td>\n",
              "      <td>55036.0</td>\n",
              "      <td>56419.9</td>\n",
              "      <td>53876.4</td>\n",
              "      <td>8696.0</td>\n",
              "      <td>-0.35%</td>\n",
              "    </tr>\n",
              "    <tr>\n",
              "      <th>4</th>\n",
              "      <td>2021-04-27</td>\n",
              "      <td>55036.5</td>\n",
              "      <td>54011.1</td>\n",
              "      <td>55427.8</td>\n",
              "      <td>53345.0</td>\n",
              "      <td>8408.0</td>\n",
              "      <td>1.88%</td>\n",
              "    </tr>\n",
              "    <tr>\n",
              "      <th>...</th>\n",
              "      <td>...</td>\n",
              "      <td>...</td>\n",
              "      <td>...</td>\n",
              "      <td>...</td>\n",
              "      <td>...</td>\n",
              "      <td>...</td>\n",
              "      <td>...</td>\n",
              "    </tr>\n",
              "    <tr>\n",
              "      <th>3936</th>\n",
              "      <td>2010-07-22</td>\n",
              "      <td>0.1</td>\n",
              "      <td>0.1</td>\n",
              "      <td>0.1</td>\n",
              "      <td>0.1</td>\n",
              "      <td>216.0</td>\n",
              "      <td>0.00%</td>\n",
              "    </tr>\n",
              "    <tr>\n",
              "      <th>3937</th>\n",
              "      <td>2010-07-21</td>\n",
              "      <td>0.1</td>\n",
              "      <td>0.1</td>\n",
              "      <td>0.1</td>\n",
              "      <td>0.1</td>\n",
              "      <td>58.0</td>\n",
              "      <td>0.00%</td>\n",
              "    </tr>\n",
              "    <tr>\n",
              "      <th>3938</th>\n",
              "      <td>2010-07-20</td>\n",
              "      <td>0.1</td>\n",
              "      <td>0.1</td>\n",
              "      <td>0.1</td>\n",
              "      <td>0.1</td>\n",
              "      <td>26.0</td>\n",
              "      <td>0.00%</td>\n",
              "    </tr>\n",
              "    <tr>\n",
              "      <th>3939</th>\n",
              "      <td>2010-07-19</td>\n",
              "      <td>0.1</td>\n",
              "      <td>0.1</td>\n",
              "      <td>0.1</td>\n",
              "      <td>0.1</td>\n",
              "      <td>57.0</td>\n",
              "      <td>0.00%</td>\n",
              "    </tr>\n",
              "    <tr>\n",
              "      <th>3940</th>\n",
              "      <td>2010-07-18</td>\n",
              "      <td>0.1</td>\n",
              "      <td>0.0</td>\n",
              "      <td>0.1</td>\n",
              "      <td>0.1</td>\n",
              "      <td>8.0</td>\n",
              "      <td>0.00%</td>\n",
              "    </tr>\n",
              "  </tbody>\n",
              "</table>\n",
              "<p>3941 rows × 7 columns</p>\n",
              "</div>"
            ],
            "text/plain": [
              "            Date    Price     Open     High      Low     Vol. Change %\n",
              "0     2021-05-01  57807.1  57719.1  58449.4  57029.5   6341.0    0.15%\n",
              "1     2021-04-30  57720.3  53562.3  57925.6  53088.7  10374.0    7.77%\n",
              "2     2021-04-29  53560.8  54838.6  55173.7  52400.0   8390.0   -2.34%\n",
              "3     2021-04-28  54841.4  55036.0  56419.9  53876.4   8696.0   -0.35%\n",
              "4     2021-04-27  55036.5  54011.1  55427.8  53345.0   8408.0    1.88%\n",
              "...          ...      ...      ...      ...      ...      ...      ...\n",
              "3936  2010-07-22      0.1      0.1      0.1      0.1    216.0    0.00%\n",
              "3937  2010-07-21      0.1      0.1      0.1      0.1     58.0    0.00%\n",
              "3938  2010-07-20      0.1      0.1      0.1      0.1     26.0    0.00%\n",
              "3939  2010-07-19      0.1      0.1      0.1      0.1     57.0    0.00%\n",
              "3940  2010-07-18      0.1      0.0      0.1      0.1      8.0    0.00%\n",
              "\n",
              "[3941 rows x 7 columns]"
            ]
          },
          "metadata": {
            "tags": []
          },
          "execution_count": 7
        }
      ]
    },
    {
      "cell_type": "code",
      "metadata": {
        "colab": {
          "base_uri": "https://localhost:8080/",
          "height": 415
        },
        "id": "YYuGF68drwpp",
        "outputId": "19d06234-2d90-43ef-bb25-d94f73174078"
      },
      "source": [
        "data = data.replace(np.nan, 0)\n",
        "data"
      ],
      "execution_count": null,
      "outputs": [
        {
          "output_type": "execute_result",
          "data": {
            "text/html": [
              "<div>\n",
              "<style scoped>\n",
              "    .dataframe tbody tr th:only-of-type {\n",
              "        vertical-align: middle;\n",
              "    }\n",
              "\n",
              "    .dataframe tbody tr th {\n",
              "        vertical-align: top;\n",
              "    }\n",
              "\n",
              "    .dataframe thead th {\n",
              "        text-align: right;\n",
              "    }\n",
              "</style>\n",
              "<table border=\"1\" class=\"dataframe\">\n",
              "  <thead>\n",
              "    <tr style=\"text-align: right;\">\n",
              "      <th></th>\n",
              "      <th>Date</th>\n",
              "      <th>Price</th>\n",
              "      <th>Open</th>\n",
              "      <th>High</th>\n",
              "      <th>Low</th>\n",
              "      <th>Vol.</th>\n",
              "      <th>Change %</th>\n",
              "    </tr>\n",
              "  </thead>\n",
              "  <tbody>\n",
              "    <tr>\n",
              "      <th>0</th>\n",
              "      <td>2021-05-01</td>\n",
              "      <td>57807.1</td>\n",
              "      <td>57719.1</td>\n",
              "      <td>58449.4</td>\n",
              "      <td>57029.5</td>\n",
              "      <td>6341.0</td>\n",
              "      <td>0.15%</td>\n",
              "    </tr>\n",
              "    <tr>\n",
              "      <th>1</th>\n",
              "      <td>2021-04-30</td>\n",
              "      <td>57720.3</td>\n",
              "      <td>53562.3</td>\n",
              "      <td>57925.6</td>\n",
              "      <td>53088.7</td>\n",
              "      <td>10374.0</td>\n",
              "      <td>7.77%</td>\n",
              "    </tr>\n",
              "    <tr>\n",
              "      <th>2</th>\n",
              "      <td>2021-04-29</td>\n",
              "      <td>53560.8</td>\n",
              "      <td>54838.6</td>\n",
              "      <td>55173.7</td>\n",
              "      <td>52400.0</td>\n",
              "      <td>8390.0</td>\n",
              "      <td>-2.34%</td>\n",
              "    </tr>\n",
              "    <tr>\n",
              "      <th>3</th>\n",
              "      <td>2021-04-28</td>\n",
              "      <td>54841.4</td>\n",
              "      <td>55036.0</td>\n",
              "      <td>56419.9</td>\n",
              "      <td>53876.4</td>\n",
              "      <td>8696.0</td>\n",
              "      <td>-0.35%</td>\n",
              "    </tr>\n",
              "    <tr>\n",
              "      <th>4</th>\n",
              "      <td>2021-04-27</td>\n",
              "      <td>55036.5</td>\n",
              "      <td>54011.1</td>\n",
              "      <td>55427.8</td>\n",
              "      <td>53345.0</td>\n",
              "      <td>8408.0</td>\n",
              "      <td>1.88%</td>\n",
              "    </tr>\n",
              "    <tr>\n",
              "      <th>...</th>\n",
              "      <td>...</td>\n",
              "      <td>...</td>\n",
              "      <td>...</td>\n",
              "      <td>...</td>\n",
              "      <td>...</td>\n",
              "      <td>...</td>\n",
              "      <td>...</td>\n",
              "    </tr>\n",
              "    <tr>\n",
              "      <th>3936</th>\n",
              "      <td>2010-07-22</td>\n",
              "      <td>0.1</td>\n",
              "      <td>0.1</td>\n",
              "      <td>0.1</td>\n",
              "      <td>0.1</td>\n",
              "      <td>216.0</td>\n",
              "      <td>0.00%</td>\n",
              "    </tr>\n",
              "    <tr>\n",
              "      <th>3937</th>\n",
              "      <td>2010-07-21</td>\n",
              "      <td>0.1</td>\n",
              "      <td>0.1</td>\n",
              "      <td>0.1</td>\n",
              "      <td>0.1</td>\n",
              "      <td>58.0</td>\n",
              "      <td>0.00%</td>\n",
              "    </tr>\n",
              "    <tr>\n",
              "      <th>3938</th>\n",
              "      <td>2010-07-20</td>\n",
              "      <td>0.1</td>\n",
              "      <td>0.1</td>\n",
              "      <td>0.1</td>\n",
              "      <td>0.1</td>\n",
              "      <td>26.0</td>\n",
              "      <td>0.00%</td>\n",
              "    </tr>\n",
              "    <tr>\n",
              "      <th>3939</th>\n",
              "      <td>2010-07-19</td>\n",
              "      <td>0.1</td>\n",
              "      <td>0.1</td>\n",
              "      <td>0.1</td>\n",
              "      <td>0.1</td>\n",
              "      <td>57.0</td>\n",
              "      <td>0.00%</td>\n",
              "    </tr>\n",
              "    <tr>\n",
              "      <th>3940</th>\n",
              "      <td>2010-07-18</td>\n",
              "      <td>0.1</td>\n",
              "      <td>0.0</td>\n",
              "      <td>0.1</td>\n",
              "      <td>0.1</td>\n",
              "      <td>8.0</td>\n",
              "      <td>0.00%</td>\n",
              "    </tr>\n",
              "  </tbody>\n",
              "</table>\n",
              "<p>3941 rows × 7 columns</p>\n",
              "</div>"
            ],
            "text/plain": [
              "            Date    Price     Open     High      Low     Vol. Change %\n",
              "0     2021-05-01  57807.1  57719.1  58449.4  57029.5   6341.0    0.15%\n",
              "1     2021-04-30  57720.3  53562.3  57925.6  53088.7  10374.0    7.77%\n",
              "2     2021-04-29  53560.8  54838.6  55173.7  52400.0   8390.0   -2.34%\n",
              "3     2021-04-28  54841.4  55036.0  56419.9  53876.4   8696.0   -0.35%\n",
              "4     2021-04-27  55036.5  54011.1  55427.8  53345.0   8408.0    1.88%\n",
              "...          ...      ...      ...      ...      ...      ...      ...\n",
              "3936  2010-07-22      0.1      0.1      0.1      0.1    216.0    0.00%\n",
              "3937  2010-07-21      0.1      0.1      0.1      0.1     58.0    0.00%\n",
              "3938  2010-07-20      0.1      0.1      0.1      0.1     26.0    0.00%\n",
              "3939  2010-07-19      0.1      0.1      0.1      0.1     57.0    0.00%\n",
              "3940  2010-07-18      0.1      0.0      0.1      0.1      8.0    0.00%\n",
              "\n",
              "[3941 rows x 7 columns]"
            ]
          },
          "metadata": {
            "tags": []
          },
          "execution_count": 8
        }
      ]
    },
    {
      "cell_type": "code",
      "metadata": {
        "colab": {
          "base_uri": "https://localhost:8080/",
          "height": 415
        },
        "id": "216UsM7_Xqw2",
        "outputId": "2cb3ca55-110f-4177-d797-b0ae7f0f13d3"
      },
      "source": [
        "# Data Spliting\n",
        "X = data.drop(['Price', 'Date', 'Change %'], axis = 1)\n",
        "\n",
        "y = data['Price']\n",
        "\n",
        "X_test, X_train, y_test, y_train = train_test_split(X,y, test_size = 0.9699 ,random_state = 42, shuffle = False)\n",
        "X_train"
      ],
      "execution_count": null,
      "outputs": [
        {
          "output_type": "execute_result",
          "data": {
            "text/html": [
              "<div>\n",
              "<style scoped>\n",
              "    .dataframe tbody tr th:only-of-type {\n",
              "        vertical-align: middle;\n",
              "    }\n",
              "\n",
              "    .dataframe tbody tr th {\n",
              "        vertical-align: top;\n",
              "    }\n",
              "\n",
              "    .dataframe thead th {\n",
              "        text-align: right;\n",
              "    }\n",
              "</style>\n",
              "<table border=\"1\" class=\"dataframe\">\n",
              "  <thead>\n",
              "    <tr style=\"text-align: right;\">\n",
              "      <th></th>\n",
              "      <th>Open</th>\n",
              "      <th>High</th>\n",
              "      <th>Low</th>\n",
              "      <th>Vol.</th>\n",
              "    </tr>\n",
              "  </thead>\n",
              "  <tbody>\n",
              "    <tr>\n",
              "      <th>118</th>\n",
              "      <td>32192.9</td>\n",
              "      <td>34755.9</td>\n",
              "      <td>32029.6</td>\n",
              "      <td>15521.0</td>\n",
              "    </tr>\n",
              "    <tr>\n",
              "      <th>119</th>\n",
              "      <td>29359.7</td>\n",
              "      <td>33233.5</td>\n",
              "      <td>29008.0</td>\n",
              "      <td>24087.0</td>\n",
              "    </tr>\n",
              "    <tr>\n",
              "      <th>120</th>\n",
              "      <td>28951.7</td>\n",
              "      <td>29627.1</td>\n",
              "      <td>28712.4</td>\n",
              "      <td>10090.0</td>\n",
              "    </tr>\n",
              "    <tr>\n",
              "      <th>121</th>\n",
              "      <td>28866.8</td>\n",
              "      <td>29298.8</td>\n",
              "      <td>28025.0</td>\n",
              "      <td>13669.0</td>\n",
              "    </tr>\n",
              "    <tr>\n",
              "      <th>122</th>\n",
              "      <td>27374.5</td>\n",
              "      <td>28979.3</td>\n",
              "      <td>27374.5</td>\n",
              "      <td>15982.0</td>\n",
              "    </tr>\n",
              "    <tr>\n",
              "      <th>...</th>\n",
              "      <td>...</td>\n",
              "      <td>...</td>\n",
              "      <td>...</td>\n",
              "      <td>...</td>\n",
              "    </tr>\n",
              "    <tr>\n",
              "      <th>3936</th>\n",
              "      <td>0.1</td>\n",
              "      <td>0.1</td>\n",
              "      <td>0.1</td>\n",
              "      <td>216.0</td>\n",
              "    </tr>\n",
              "    <tr>\n",
              "      <th>3937</th>\n",
              "      <td>0.1</td>\n",
              "      <td>0.1</td>\n",
              "      <td>0.1</td>\n",
              "      <td>58.0</td>\n",
              "    </tr>\n",
              "    <tr>\n",
              "      <th>3938</th>\n",
              "      <td>0.1</td>\n",
              "      <td>0.1</td>\n",
              "      <td>0.1</td>\n",
              "      <td>26.0</td>\n",
              "    </tr>\n",
              "    <tr>\n",
              "      <th>3939</th>\n",
              "      <td>0.1</td>\n",
              "      <td>0.1</td>\n",
              "      <td>0.1</td>\n",
              "      <td>57.0</td>\n",
              "    </tr>\n",
              "    <tr>\n",
              "      <th>3940</th>\n",
              "      <td>0.0</td>\n",
              "      <td>0.1</td>\n",
              "      <td>0.1</td>\n",
              "      <td>8.0</td>\n",
              "    </tr>\n",
              "  </tbody>\n",
              "</table>\n",
              "<p>3823 rows × 4 columns</p>\n",
              "</div>"
            ],
            "text/plain": [
              "         Open     High      Low     Vol.\n",
              "118   32192.9  34755.9  32029.6  15521.0\n",
              "119   29359.7  33233.5  29008.0  24087.0\n",
              "120   28951.7  29627.1  28712.4  10090.0\n",
              "121   28866.8  29298.8  28025.0  13669.0\n",
              "122   27374.5  28979.3  27374.5  15982.0\n",
              "...       ...      ...      ...      ...\n",
              "3936      0.1      0.1      0.1    216.0\n",
              "3937      0.1      0.1      0.1     58.0\n",
              "3938      0.1      0.1      0.1     26.0\n",
              "3939      0.1      0.1      0.1     57.0\n",
              "3940      0.0      0.1      0.1      8.0\n",
              "\n",
              "[3823 rows x 4 columns]"
            ]
          },
          "metadata": {
            "tags": []
          },
          "execution_count": 9
        }
      ]
    },
    {
      "cell_type": "markdown",
      "metadata": {
        "id": "XTK_6X6brCWw"
      },
      "source": [
        "17)"
      ]
    },
    {
      "cell_type": "code",
      "metadata": {
        "id": "AhwYzH3nq_mz",
        "colab": {
          "base_uri": "https://localhost:8080/"
        },
        "outputId": "61633211-eac8-469c-f789-658d43414d99"
      },
      "source": [
        "lin_regression = LinearRegression().fit(X_train, y_train)\n",
        "lin_pred = lin_regression.predict(X_test)\n",
        "lin_pred_score = math.sqrt(mean_squared_error(y_test, lin_pred))\n",
        "print('test score : %.2f RMSE' % (lin_pred_score))"
      ],
      "execution_count": null,
      "outputs": [
        {
          "output_type": "stream",
          "text": [
            "test score : 961.10 RMSE\n"
          ],
          "name": "stdout"
        }
      ]
    },
    {
      "cell_type": "code",
      "metadata": {
        "id": "TxuJM6Csq_7R",
        "colab": {
          "base_uri": "https://localhost:8080/"
        },
        "outputId": "37ae77c4-4198-41d8-89ea-11411b829b7e"
      },
      "source": [
        "ridge = Ridge().fit(X_train, y_train)\n",
        "ridge_pred = ridge.predict(X_test)\n",
        "ridge_pred_score = math.sqrt(mean_squared_error(y_test, ridge_pred))\n",
        "print('test score : %.2f RMSE' % (ridge_pred_score))"
      ],
      "execution_count": null,
      "outputs": [
        {
          "output_type": "stream",
          "text": [
            "test score : 961.10 RMSE\n"
          ],
          "name": "stdout"
        }
      ]
    },
    {
      "cell_type": "code",
      "metadata": {
        "colab": {
          "base_uri": "https://localhost:8080/"
        },
        "id": "mojqdAszq_-g",
        "outputId": "aba1a38d-6c2b-44a0-f2b5-45257e5ac05e"
      },
      "source": [
        "lasso = Lasso().fit(X_train, y_train)\n",
        "lasso_pred = lasso.predict(X_test)\n",
        "lasso_pred_score = math.sqrt(mean_squared_error(y_test, lasso_pred))\n",
        "print('test score : %.2f RMSE' % (lasso_pred_score))"
      ],
      "execution_count": null,
      "outputs": [
        {
          "output_type": "stream",
          "text": [
            "test score : 994.15 RMSE\n"
          ],
          "name": "stdout"
        },
        {
          "output_type": "stream",
          "text": [
            "/usr/local/lib/python3.7/dist-packages/sklearn/linear_model/_coordinate_descent.py:476: ConvergenceWarning: Objective did not converge. You might want to increase the number of iterations. Duality gap: 21548405.98461891, tolerance: 7675557.324591758\n",
            "  positive)\n"
          ],
          "name": "stderr"
        }
      ]
    },
    {
      "cell_type": "code",
      "metadata": {
        "id": "0gjx5Akztonf",
        "colab": {
          "base_uri": "https://localhost:8080/"
        },
        "outputId": "7232e1df-b835-48c9-9888-120481b44898"
      },
      "source": [
        "svr_poly = SVR(kernel='poly').fit(X_train,y_train)\n",
        "svr_poly_pred = svr_poly.predict(X_test)\n",
        "svr_poly_pred_score = math.sqrt(mean_squared_error(y_test, svr_poly_pred))\n",
        "print('test score : %.2f RMSE' % (svr_poly_pred_score))"
      ],
      "execution_count": null,
      "outputs": [
        {
          "output_type": "stream",
          "text": [
            "test score : 19534.72 RMSE\n"
          ],
          "name": "stdout"
        }
      ]
    },
    {
      "cell_type": "code",
      "metadata": {
        "id": "kZhmURHYvo3D",
        "colab": {
          "base_uri": "https://localhost:8080/"
        },
        "outputId": "a0801fe7-52f3-4e3b-af41-1ab242070453"
      },
      "source": [
        "svr_rbf = SVR(kernel='rbf', gamma=0.1).fit(X_train, y_train)\n",
        "svr_rbf_pred = svr_rbf.predict(X_test)\n",
        "svr_rbf_pred_score = math.sqrt(mean_squared_error(y_test, svr_rbf_pred))\n",
        "print('test score : %.2f RMSE' % (svr_rbf_pred_score))"
      ],
      "execution_count": null,
      "outputs": [
        {
          "output_type": "stream",
          "text": [
            "test score : 49181.85 RMSE\n"
          ],
          "name": "stdout"
        }
      ]
    },
    {
      "cell_type": "code",
      "metadata": {
        "colab": {
          "base_uri": "https://localhost:8080/"
        },
        "id": "0OgZUexsBtC8",
        "outputId": "eb479f04-1aa8-40d3-b304-1753baac84b2"
      },
      "source": [
        "#LSTM Model for 17\n",
        "dataset = data.values\n",
        "dataset = np.delete(dataset,0,1)\n",
        "dataset = np.delete(dataset,5,1)\n",
        "dataset.astype('float32')"
      ],
      "execution_count": null,
      "outputs": [
        {
          "output_type": "execute_result",
          "data": {
            "text/plain": [
              "array([[5.78071e+04, 5.77191e+04, 5.84494e+04, 5.70295e+04, 6.34100e+03],\n",
              "       [5.77203e+04, 5.35623e+04, 5.79256e+04, 5.30887e+04, 1.03740e+04],\n",
              "       [5.35608e+04, 5.48386e+04, 5.51737e+04, 5.24000e+04, 8.39000e+03],\n",
              "       ...,\n",
              "       [1.00000e-01, 1.00000e-01, 1.00000e-01, 1.00000e-01, 2.60000e+01],\n",
              "       [1.00000e-01, 1.00000e-01, 1.00000e-01, 1.00000e-01, 5.70000e+01],\n",
              "       [1.00000e-01, 0.00000e+00, 1.00000e-01, 1.00000e-01, 8.00000e+00]],\n",
              "      dtype=float32)"
            ]
          },
          "metadata": {
            "tags": []
          },
          "execution_count": 15
        }
      ]
    },
    {
      "cell_type": "code",
      "metadata": {
        "colab": {
          "base_uri": "https://localhost:8080/"
        },
        "id": "P-WKs2DCBtIq",
        "outputId": "f9b84a9c-d64e-4adf-d07c-8813a232fd03"
      },
      "source": [
        "train_size = int(len(dataset) * 0.9699)\n",
        "test_size = len(dataset) - train_size\n",
        "test, train = dataset[0:test_size,0:1], dataset[test_size:len(dataset),1:2]\n",
        "print(len(train), len(test))\n",
        "print(train.shape[1], test.shape[1])"
      ],
      "execution_count": null,
      "outputs": [
        {
          "output_type": "stream",
          "text": [
            "3822 119\n",
            "1 1\n"
          ],
          "name": "stdout"
        }
      ]
    },
    {
      "cell_type": "code",
      "metadata": {
        "id": "6LcOrpn2BtLi"
      },
      "source": [
        "def create_dataset(dataset, look_back=1):\n",
        "\tdataX, dataY = [], []\n",
        "\tfor i in range(len(dataset)-look_back):\n",
        "\t\ta = dataset[i:(i+look_back), 0]\n",
        "\t\tdataX.append(a)\n",
        "\t\tdataY.append(dataset[i + look_back, 0])\n",
        "\treturn np.array(dataX), np.array(dataY)"
      ],
      "execution_count": null,
      "outputs": []
    },
    {
      "cell_type": "code",
      "metadata": {
        "id": "XS7eiI_VW9f2",
        "colab": {
          "base_uri": "https://localhost:8080/"
        },
        "outputId": "863c4811-319e-4a00-a2b7-5358b9058797"
      },
      "source": [
        "look_back = 1\n",
        "trainX, trainY = create_dataset(train, look_back)\n",
        "testX, testY = create_dataset(test, look_back)\n",
        "trainY.shape"
      ],
      "execution_count": null,
      "outputs": [
        {
          "output_type": "execute_result",
          "data": {
            "text/plain": [
              "(3821,)"
            ]
          },
          "metadata": {
            "tags": []
          },
          "execution_count": 57
        }
      ]
    },
    {
      "cell_type": "code",
      "metadata": {
        "id": "ehju_EC-7lSV"
      },
      "source": [
        "trainX = np.reshape(trainX, (trainX.shape[0], 1, trainX.shape[1]))\n",
        "testX = np.reshape(testX, (testX.shape[0], 1, testX.shape[1]))"
      ],
      "execution_count": null,
      "outputs": []
    },
    {
      "cell_type": "code",
      "metadata": {
        "id": "yQletkTN62dc"
      },
      "source": [
        "tensor_trainX = tf.convert_to_tensor(trainX, np.float32)\n",
        "tensor_testX = tf.convert_to_tensor(testX, np.float32)"
      ],
      "execution_count": null,
      "outputs": []
    },
    {
      "cell_type": "code",
      "metadata": {
        "id": "3p30FUczW9mF"
      },
      "source": [
        "model = Sequential()\n",
        "model.add(LSTM(4, input_shape=(1, look_back)))\n",
        "model.add(Dense(1))\n",
        "model.compile(loss='mean_squared_error', optimizer='adam')\n",
        "model.fit(tensor_trainX, trainY, epochs=100, batch_size=1, verbose=2)"
      ],
      "execution_count": null,
      "outputs": []
    },
    {
      "cell_type": "code",
      "metadata": {
        "id": "5g7T8joQW9pN",
        "colab": {
          "base_uri": "https://localhost:8080/"
        },
        "outputId": "a6d03a68-d4f5-44bc-dcec-f6d3d0d07c50"
      },
      "source": [
        "trainPredict = model.predict(tensor_trainX)\n",
        "testPredict = model.predict(tensor_testX)\n",
        "\n",
        "trainScore = math.sqrt(mean_squared_error(trainY, trainPredict[:,0]))\n",
        "print('Train Score: %.2f RMSE' % (trainScore))\n",
        "testScore = math.sqrt(mean_squared_error(testY, testPredict[:,0]))\n",
        "print('Test Score: %.2f RMSE' % (testScore))\n",
        "trainY.shape"
      ],
      "execution_count": null,
      "outputs": [
        {
          "output_type": "stream",
          "text": [
            "Train Score: 5345.90 RMSE\n",
            "Test Score: 49464.87 RMSE\n"
          ],
          "name": "stdout"
        },
        {
          "output_type": "execute_result",
          "data": {
            "text/plain": [
              "(3821,)"
            ]
          },
          "metadata": {
            "tags": []
          },
          "execution_count": 73
        }
      ]
    },
    {
      "cell_type": "markdown",
      "metadata": {
        "id": "Lj4c9fLvwhVC"
      },
      "source": [
        ""
      ]
    },
    {
      "cell_type": "markdown",
      "metadata": {
        "id": "1pMlCVb56UeE"
      },
      "source": [
        "18)"
      ]
    },
    {
      "cell_type": "code",
      "metadata": {
        "id": "jOQW4OkTW9sV",
        "colab": {
          "base_uri": "https://localhost:8080/"
        },
        "outputId": "0ac848e7-701e-4888-fdc7-316c05e92650"
      },
      "source": [
        "# voting\n",
        "model_1 = LinearRegression()\n",
        "model_2 = Lasso()\n",
        "model_3 = Ridge()\n",
        " \n",
        "# Making the final model using voting regressor\n",
        "final_model = VotingRegressor(\n",
        "    estimators=[('lr', model_1), ('ridge', model_2), ('lasso', model_3)])\n",
        "\n",
        "lab_enc = preprocessing.LabelEncoder()\n",
        "encoded_y_train = lab_enc.fit_transform(y_train)\n",
        "final_model.fit(X_train, encoded_y_train) \n",
        "\n",
        "# predicting the output on the test dataset\n",
        "pred_final = final_model.predict(X_test)\n",
        "pred_final"
      ],
      "execution_count": null,
      "outputs": [
        {
          "output_type": "stream",
          "text": [
            "/usr/local/lib/python3.7/dist-packages/sklearn/linear_model/_coordinate_descent.py:476: ConvergenceWarning: Objective did not converge. You might want to increase the number of iterations. Duality gap: 357507082.6245327, tolerance: 320461.6265364369\n",
            "  positive)\n"
          ],
          "name": "stderr"
        },
        {
          "output_type": "execute_result",
          "data": {
            "text/plain": [
              "array([10484.97221027,  9337.2302848 ,  9814.86780439,  9882.33090504,\n",
              "        9761.80364428,  8460.84019335,  8884.55113617,  9214.79881271,\n",
              "        9120.01670407,  9416.75200264, 10067.07892262,  9861.95742838,\n",
              "       10012.0820571 , 10042.494356  , 10947.79713949, 11213.9735745 ,\n",
              "       11380.52799661, 11280.11090673, 10583.92140455, 10855.94245244,\n",
              "       10841.83152119, 10331.28513735, 10573.46438247, 10047.5224942 ,\n",
              "       10334.24605294, 10658.71729245, 10441.54273157, 10291.98243884,\n",
              "       10519.10517077, 10632.83565924, 10677.58768853, 10507.12820037,\n",
              "       10366.46364277,  9905.11164584, 10107.9032128 ,  9877.94679881,\n",
              "        9081.29682391,  9414.08018092,  9405.24521374,  9684.56326503,\n",
              "       10028.03485377, 10351.81648148, 10474.06873357, 10259.05940116,\n",
              "       10510.21332957,  9945.42868391,  9875.51884786, 10229.27489972,\n",
              "       10952.24060537,  9892.26138531, 10332.79718978,  9886.92761685,\n",
              "        9662.17281076,  9377.23079357,  9098.59351407,  8808.19053328,\n",
              "        8842.77028142,  8662.08424663,  8806.31978626,  8462.23057923,\n",
              "        8866.57948733,  7895.83648472,  8228.22870216,  8271.69861421,\n",
              "        8307.93471228,  8594.92742174,  8621.44409223,  8996.08011861,\n",
              "        9525.57829069,  9998.33445566,  9947.71067572,  8935.50542785,\n",
              "        9496.48198082,  8753.12511557,  8549.8358446 ,  8697.77947985,\n",
              "        8505.9013343 ,  8636.50541238,  8654.1651061 ,  7866.48588142,\n",
              "        8300.94855652,  8364.91850274,  6363.01910266,  7168.19554191,\n",
              "        6978.58399636,  6846.3726318 ,  6904.44051089,  6527.24400591,\n",
              "        6141.96254841,  6092.71102117,  6309.69406754,  6347.04796406,\n",
              "        5684.3152316 ,  5446.67570413,  5904.67363056,  5986.43460103,\n",
              "        5882.96674377,  5933.66212782,  6101.9800547 ,  5422.31301199,\n",
              "        6164.40202989,  6512.40921487,  6753.72018058,  6526.43397522,\n",
              "        6528.72824902,  6714.2372937 ,  6773.95953213,  6746.3104936 ,\n",
              "        5921.32929087,  6342.67372473,  6336.46222962,  6867.7190905 ,\n",
              "        7374.83507293,  6888.14339379,  6595.59134134,  6152.69664164,\n",
              "        5676.63033083,  5750.43513796])"
            ]
          },
          "metadata": {
            "tags": []
          },
          "execution_count": 15
        }
      ]
    },
    {
      "cell_type": "code",
      "metadata": {
        "id": "hgK0qg8uW9vf",
        "colab": {
          "base_uri": "https://localhost:8080/"
        },
        "outputId": "136c5c63-3b9e-44e7-85e2-83e0a7515842"
      },
      "source": [
        "# bagging\n",
        " \n",
        "# Making the final model using bagging regressor\n",
        "final_bag_model = BaggingRegressor(base_estimator=SVR(kernel='poly'),\n",
        "                         n_estimators=10, random_state=0)\n",
        "\n",
        "lab_enc = preprocessing.LabelEncoder()\n",
        "encoded_y_train = lab_enc.fit_transform(y_train)\n",
        "# training all the model on the train dataset\n",
        "final_bag_model.fit(X_train, encoded_y_train) \n",
        "\n",
        "# predicting the output on the test dataset\n",
        "pred_final_bag = final_bag_model.predict(X_test)\n",
        "pred_final_bag"
      ],
      "execution_count": null,
      "outputs": [
        {
          "output_type": "execute_result",
          "data": {
            "text/plain": [
              "array([18836.62131811, 17754.21103289, 16478.34052699, 17384.6498943 ,\n",
              "       16578.48230902, 15208.35029936, 12161.67242564, 13554.03866812,\n",
              "       17709.99392177, 18584.2382099 , 18297.77169005, 18604.77252581,\n",
              "       19234.5977845 , 24528.55093531, 22953.09174987, 26381.08688394,\n",
              "       24474.46330512, 27204.99276679, 24677.53784575, 21933.60410447,\n",
              "       20641.65183223, 21636.52659999, 19119.39179605, 17898.12999581,\n",
              "       20253.56118046, 20223.54595401, 18824.2991179 , 18265.25846415,\n",
              "       19789.3438922 , 20433.64128943, 19959.30371192, 20864.5642583 ,\n",
              "       19938.57485887, 19225.17083603, 16917.35973814, 17013.00169814,\n",
              "       15744.02716064, 16638.09868198, 18539.67550705, 16647.01950802,\n",
              "       18923.97764675, 19078.04336117, 19800.45593112, 19659.78170589,\n",
              "       21215.83015583, 19911.59612136, 18983.55223906, 21391.72068591,\n",
              "       22269.26268031, 22187.52038631, 20134.85241419, 19781.58130149,\n",
              "       19260.64805137, 16574.2236843 , 13538.42762719, 13132.09554733,\n",
              "       11785.31853117, 12814.53589963, 11299.07610405, 12100.68420785,\n",
              "       13126.54958673, 12503.91220126, 11541.36087723, 11459.77370688,\n",
              "       13819.49174777, 12988.37908098, 14687.35805658, 21836.38395973,\n",
              "       22534.57050002, 18672.22088282, 19478.47411992, 17275.09973703,\n",
              "       14996.5296745 , 15161.94895637, 13892.26268803, 12883.56926731,\n",
              "       12564.33197009, 11642.91884325, 13121.15095324, 12175.4366555 ,\n",
              "       12351.02241383, 13948.70532796, 11696.47012909,  7740.82082075,\n",
              "        8520.03117169,  6652.99139241,  7654.95041097,  6678.45660761,\n",
              "        5776.62839101,  5504.2185547 ,  5250.22440062,  5784.89238929,\n",
              "        8888.5892251 ,  5348.85714837,  5745.3324483 ,  5200.69518525,\n",
              "        5603.42782539,  4552.16855669,  4896.53232373,  6343.4761169 ,\n",
              "        7635.74687936,  6647.67007996,  6109.42688125,  6303.91084059,\n",
              "        6360.94650519,  7003.39001049,  7181.03990405,  8282.91592885,\n",
              "        7379.11282731,  7982.77413714,  8537.30926167,  9589.55550759,\n",
              "        8526.29644771, 10605.79092881,  9688.55324876,  7685.85723706,\n",
              "        6132.42463879,  6708.9995194 ])"
            ]
          },
          "metadata": {
            "tags": []
          },
          "execution_count": 16
        }
      ]
    },
    {
      "cell_type": "code",
      "metadata": {
        "id": "3QHDKHuRBtO1",
        "colab": {
          "base_uri": "https://localhost:8080/"
        },
        "outputId": "5c763df4-fd90-41a3-efad-25ecb98a03d3"
      },
      "source": [
        "# Boosting\n",
        " \n",
        "# Making the final model using Ada Boost regressor using rbf kernel of svr\n",
        "final_Boost_model = AdaBoostRegressor(base_estimator=SVR(),\n",
        "                         n_estimators=10, random_state=0)\n",
        "\n",
        "lab_enc = preprocessing.LabelEncoder()\n",
        "encoded_y_train = lab_enc.fit_transform(y_train)\n",
        "# training all the model on the train dataset\n",
        "final_Boost_model.fit(X_train, encoded_y_train) \n",
        "\n",
        "# predicting the output on the test dataset\n",
        "pred_final_boost = final_Boost_model.predict(X_test)\n",
        "pred_final_boost"
      ],
      "execution_count": null,
      "outputs": [
        {
          "output_type": "execute_result",
          "data": {
            "text/plain": [
              "array([1572.11230608, 1572.5232    , 1572.65067573, 1572.46332793,\n",
              "       1572.62627178, 1573.93707925, 1574.54175761, 1574.00936637,\n",
              "       1573.93958551, 1572.92925645, 1572.38788721, 1572.44348882,\n",
              "       1572.34618693, 1572.14432881, 1571.93452054, 1571.91020032,\n",
              "       1571.89024736, 1571.88933251, 1571.94309956, 1571.96769602,\n",
              "       1571.97535501, 1572.03516135, 1572.07166498, 1572.22405256,\n",
              "       1572.17435766, 1572.04982047, 1572.07775874, 1572.14224216,\n",
              "       1572.05414492, 1572.02185946, 1572.0425168 , 1572.07107659,\n",
              "       1572.10398668, 1572.2891266 , 1572.33258677, 1572.43179221,\n",
              "       1573.11356243, 1573.3851121 , 1572.64134832, 1572.616845  ,\n",
              "       1572.25877458, 1572.14952471, 1572.05021158, 1572.12071798,\n",
              "       1572.06009344, 1572.25170206, 1572.46688439, 1572.09483061,\n",
              "       1571.95151303, 1572.08843926, 1572.21661526, 1572.33504452,\n",
              "       1572.50513567, 1572.98259502, 1573.67909574, 1574.37866064,\n",
              "       1575.24131478, 1575.8121813 , 1573.77842683, 1574.13991965,\n",
              "       1574.9981441 , 1577.34963805, 1579.33016413, 1577.30823012,\n",
              "       1577.38830737, 1574.51236014, 1575.00176215, 1573.05266344,\n",
              "       1572.50186413, 1572.24758309, 1572.37263287, 1573.0467769 ,\n",
              "       1573.36540704, 1574.22296558, 1575.48073814, 1576.10052824,\n",
              "       1575.85907537, 1576.47797928, 1576.20386064, 1578.46724153,\n",
              "       1578.43852773, 1577.35943615, 1586.1750434 , 1599.06567379,\n",
              "       1597.17123756, 1606.47871977, 1605.66043946, 1614.78651676,\n",
              "       1629.71459841, 1639.19317756, 1635.49630862, 1632.62820158,\n",
              "       1613.4474296 , 1661.74031707, 1659.1229226 , 1654.8410018 ,\n",
              "       1643.04315134, 1651.05421756, 1645.74896982, 1655.62193573,\n",
              "       1626.68953728, 1622.06755481, 1608.37449064, 1615.39040477,\n",
              "       1619.23984654, 1611.23754443, 1603.59705049, 1602.45193933,\n",
              "       1622.82397666, 1619.31245697, 1611.0433307 , 1596.30315323,\n",
              "       1592.55401994, 1592.83049155, 1599.74032649, 1621.55051154,\n",
              "       1649.75951288, 1647.92734728])"
            ]
          },
          "metadata": {
            "tags": []
          },
          "execution_count": 17
        }
      ]
    },
    {
      "cell_type": "markdown",
      "metadata": {
        "id": "VqY2qjfWvTWv"
      },
      "source": [
        "19)"
      ]
    },
    {
      "cell_type": "code",
      "metadata": {
        "colab": {
          "base_uri": "https://localhost:8080/"
        },
        "id": "ouZfOApgx2Hg",
        "outputId": "844064f4-14d0-4a95-d6ef-ea6276c2ca12"
      },
      "source": [
        "# Making the final model using Ada Boost regressor by rbf kernel of svr and 10 weak learners\n",
        "final_Boost_model1 = AdaBoostRegressor(base_estimator=SVR(kernel='rbf', gamma= 0.01),\n",
        "                         n_estimators=10, random_state=0)\n",
        "\n",
        "lab_enc = preprocessing.LabelEncoder()\n",
        "encoded_y_train = lab_enc.fit_transform(y_train)\n",
        "# training all the model on the train dataset\n",
        "final_Boost_model1.fit(X_train, encoded_y_train) \n",
        "\n",
        "# predicting the output on the test dataset\n",
        "pred_final_boost1 = final_Boost_model1.predict(X_test)\n",
        "pred_final_boost1_score = math.sqrt(mean_squared_error(y_test, pred_final_boost1))\n",
        "print('test score : %.2f RMSE' % (pred_final_boost1_score))"
      ],
      "execution_count": null,
      "outputs": [
        {
          "output_type": "stream",
          "text": [
            "test score : 48611.42 RMSE\n"
          ],
          "name": "stdout"
        }
      ]
    },
    {
      "cell_type": "code",
      "metadata": {
        "colab": {
          "base_uri": "https://localhost:8080/"
        },
        "id": "LaeEZDYAvUR9",
        "outputId": "cb00ab06-92f4-429f-8807-0f2e01b014bf"
      },
      "source": [
        "final_Boost_model2 = AdaBoostRegressor(base_estimator=SVR(kernel='poly', degree = 2),\n",
        "                         n_estimators=10, random_state=0)\n",
        "\n",
        "lab_enc = preprocessing.LabelEncoder()\n",
        "encoded_y_train = lab_enc.fit_transform(y_train)\n",
        "final_Boost_model2.fit(X_train, encoded_y_train) \n",
        "\n",
        "# predicting the output on the test dataset\n",
        "pred_final_boost2 = final_Boost_model2.predict(X_test)\n",
        "pred_final_boost2_score = math.sqrt(mean_squared_error(y_test, pred_final_boost2))\n",
        "print('test score : %.2f RMSE' % (pred_final_boost2_score))"
      ],
      "execution_count": null,
      "outputs": [
        {
          "output_type": "stream",
          "text": [
            "test score : 39445.92 RMSE\n"
          ],
          "name": "stdout"
        }
      ]
    },
    {
      "cell_type": "code",
      "metadata": {
        "colab": {
          "base_uri": "https://localhost:8080/"
        },
        "id": "cKUICcwXvUY2",
        "outputId": "840d3f7c-f606-425f-ba93-fbe957861846"
      },
      "source": [
        "final_Boost_model3 = AdaBoostRegressor(base_estimator=SVR(kernel='rbf', gamma= 0.01),\n",
        "                         n_estimators=20, random_state=0)\n",
        "\n",
        "lab_enc = preprocessing.LabelEncoder()\n",
        "encoded_y_train = lab_enc.fit_transform(y_train)\n",
        "# training all the model on the train dataset\n",
        "final_Boost_model3.fit(X_train, encoded_y_train) \n",
        "\n",
        "# predicting the output on the test dataset\n",
        "pred_final_boost3 = final_Boost_model3.predict(X_test)\n",
        "pred_final_boost3_score = math.sqrt(mean_squared_error(y_test, pred_final_boost3))\n",
        "print('test score : %.2f RMSE' % (pred_final_boost1_score))"
      ],
      "execution_count": null,
      "outputs": [
        {
          "output_type": "stream",
          "text": [
            "test score : 48611.42 RMSE\n"
          ],
          "name": "stdout"
        }
      ]
    },
    {
      "cell_type": "code",
      "metadata": {
        "colab": {
          "base_uri": "https://localhost:8080/"
        },
        "id": "65onvaOcvUcB",
        "outputId": "75ce391c-f6db-424e-c4b6-cdec69ce80c9"
      },
      "source": [
        "final_Boost_model4 = AdaBoostRegressor(base_estimator=SVR(kernel='poly', degree = 2),\n",
        "                         n_estimators=20, random_state=0)\n",
        "\n",
        "lab_enc = preprocessing.LabelEncoder()\n",
        "encoded_y_train = lab_enc.fit_transform(y_train)\n",
        "# training all the model on the train dataset\n",
        "final_Boost_model4.fit(X_train, encoded_y_train) \n",
        "\n",
        "# predicting the output on the test dataset\n",
        "pred_final_boost4 = final_Boost_model2.predict(X_test)\n",
        "pred_final_boost4_score = math.sqrt(mean_squared_error(y_test, pred_final_boost4))\n",
        "print('test score : %.2f RMSE' % (pred_final_boost4_score))"
      ],
      "execution_count": null,
      "outputs": [
        {
          "output_type": "stream",
          "text": [
            "test score : 39445.92 RMSE\n"
          ],
          "name": "stdout"
        }
      ]
    },
    {
      "cell_type": "markdown",
      "metadata": {
        "id": "iObMWc0ghMqW"
      },
      "source": [
        "20)"
      ]
    },
    {
      "cell_type": "code",
      "metadata": {
        "colab": {
          "base_uri": "https://localhost:8080/"
        },
        "id": "EhRiP0Tjg03J",
        "outputId": "e4c8e9d1-e87e-4539-affb-c5f0244848e4"
      },
      "source": [
        "# Random Forest\n",
        "random_forest_model = RandomForestRegressor(max_depth=2,random_state=0)\n",
        "\n",
        "#encode our target \n",
        "lab_enc = preprocessing.LabelEncoder()\n",
        "encoded_y_train = lab_enc.fit_transform(y_train)\n",
        "\n",
        "# train our random forest based model :\n",
        "random_forest_model.fit(X_train,encoded_y_train)\n",
        "\n",
        "# predicting the output on the test dataset\n",
        "random_forest_model_pred = random_forest_model.predict(X_test)\n",
        "random_forest_model_pred_score = math.sqrt(mean_squared_error(y_test, random_forest_model_pred))\n",
        "print('test score : %.2f RMSE' % (random_forest_model_pred_score))"
      ],
      "execution_count": null,
      "outputs": [
        {
          "output_type": "stream",
          "text": [
            "test score : 47243.62 RMSE\n"
          ],
          "name": "stdout"
        }
      ]
    },
    {
      "cell_type": "code",
      "metadata": {
        "colab": {
          "base_uri": "https://localhost:8080/"
        },
        "id": "FL_Tj3rCqA82",
        "outputId": "85807d71-578f-4f28-cd52-c7d5f9753ee7"
      },
      "source": [
        "# Random Forest (second edition with 4 layers)\n",
        "random_forest_model4 = RandomForestRegressor(max_depth=4,random_state=0)\n",
        "\n",
        "lab_enc = preprocessing.LabelEncoder()\n",
        "encoded_y_train = lab_enc.fit_transform(y_train)\n",
        "\n",
        "# train our random forest based model :\n",
        "random_forest_model4.fit(X_train,encoded_y_train)\n",
        "\n",
        "# predicting the output on the test dataset\n",
        "random_forest_model4_pred = random_forest_model4.predict(X_test)\n",
        "random_forest_model4_pred_score = math.sqrt(mean_squared_error(y_test, random_forest_model4_pred))\n",
        "print('test score : %.2f RMSE' % (random_forest_model4_pred_score))"
      ],
      "execution_count": null,
      "outputs": [
        {
          "output_type": "stream",
          "text": [
            "test score : 46942.08 RMSE\n"
          ],
          "name": "stdout"
        }
      ]
    },
    {
      "cell_type": "markdown",
      "metadata": {
        "id": "rNWatyNyq4L8"
      },
      "source": [
        "21)"
      ]
    },
    {
      "cell_type": "code",
      "metadata": {
        "colab": {
          "base_uri": "https://localhost:8080/"
        },
        "id": "4gxOYzsWqpil",
        "outputId": "5b55511f-9a9d-4e5c-e979-cb6be415548f"
      },
      "source": [
        "def ignore_5_percent_error (y_true, y_predict):\n",
        "  rmspe = np.sqrt(np.mean(np.square(((y_true - y_predict) / y_true)), axis = 0))\n",
        "  if rmspe > 0.95 :\n",
        "    print('RMSPE value and Prediction status are ' + str(rmspe) + ' and True')\n",
        "  else :\n",
        "    print('RMSPE value and Prediction status are ' + str(rmspe) + ' and False')\n",
        "\n",
        "  return   \n",
        "\n",
        "ignore_5_percent_error(y_test, random_forest_model4_pred)"
      ],
      "execution_count": null,
      "outputs": [
        {
          "output_type": "stream",
          "text": [
            "RMSPE value and Prediction status are 0.9406361017366941 and False\n"
          ],
          "name": "stdout"
        }
      ]
    },
    {
      "cell_type": "markdown",
      "metadata": {
        "id": "ejsIrKzGPluw"
      },
      "source": [
        "22)"
      ]
    },
    {
      "cell_type": "code",
      "metadata": {
        "colab": {
          "base_uri": "https://localhost:8080/",
          "height": 750
        },
        "id": "DeAlfrCSMprJ",
        "outputId": "e510b895-136b-42a1-cbbe-22c63a76df44"
      },
      "source": [
        "# create an empty column : Open-diff:\n",
        "data22 = data \n",
        "data22['Open-diff'] = \"\"\n",
        "data22['Open-diff'][3940] = 0\n",
        "\n",
        "for i in range(0, 3940):\n",
        "  if data22['Open'][i+1] > data22['Open'][i]:\n",
        "    data22['Open-diff'][i] = 1.0\n",
        "  \n",
        "  elif data22['Open'][i+1] < data22['Open'][i]:\n",
        "    data22['Open-diff'][i] = -1.0\n",
        "\n",
        "  elif data22['Open'][i+1] == data22['Open'][i]:\n",
        "    data22['Open-diff'][i] = 0.0\n",
        "\n",
        "data22"
      ],
      "execution_count": null,
      "outputs": [
        {
          "output_type": "stream",
          "text": [
            "/usr/local/lib/python3.7/dist-packages/ipykernel_launcher.py:4: SettingWithCopyWarning: \n",
            "A value is trying to be set on a copy of a slice from a DataFrame\n",
            "\n",
            "See the caveats in the documentation: https://pandas.pydata.org/pandas-docs/stable/user_guide/indexing.html#returning-a-view-versus-a-copy\n",
            "  after removing the cwd from sys.path.\n",
            "/usr/local/lib/python3.7/dist-packages/ipykernel_launcher.py:12: SettingWithCopyWarning: \n",
            "A value is trying to be set on a copy of a slice from a DataFrame\n",
            "\n",
            "See the caveats in the documentation: https://pandas.pydata.org/pandas-docs/stable/user_guide/indexing.html#returning-a-view-versus-a-copy\n",
            "  if sys.path[0] == '':\n",
            "/usr/local/lib/python3.7/dist-packages/ipykernel_launcher.py:9: SettingWithCopyWarning: \n",
            "A value is trying to be set on a copy of a slice from a DataFrame\n",
            "\n",
            "See the caveats in the documentation: https://pandas.pydata.org/pandas-docs/stable/user_guide/indexing.html#returning-a-view-versus-a-copy\n",
            "  if __name__ == '__main__':\n",
            "/usr/local/lib/python3.7/dist-packages/ipykernel_launcher.py:15: SettingWithCopyWarning: \n",
            "A value is trying to be set on a copy of a slice from a DataFrame\n",
            "\n",
            "See the caveats in the documentation: https://pandas.pydata.org/pandas-docs/stable/user_guide/indexing.html#returning-a-view-versus-a-copy\n",
            "  from ipykernel import kernelapp as app\n"
          ],
          "name": "stderr"
        },
        {
          "output_type": "execute_result",
          "data": {
            "text/html": [
              "<div>\n",
              "<style scoped>\n",
              "    .dataframe tbody tr th:only-of-type {\n",
              "        vertical-align: middle;\n",
              "    }\n",
              "\n",
              "    .dataframe tbody tr th {\n",
              "        vertical-align: top;\n",
              "    }\n",
              "\n",
              "    .dataframe thead th {\n",
              "        text-align: right;\n",
              "    }\n",
              "</style>\n",
              "<table border=\"1\" class=\"dataframe\">\n",
              "  <thead>\n",
              "    <tr style=\"text-align: right;\">\n",
              "      <th></th>\n",
              "      <th>Date</th>\n",
              "      <th>Price</th>\n",
              "      <th>Open</th>\n",
              "      <th>High</th>\n",
              "      <th>Low</th>\n",
              "      <th>Vol.</th>\n",
              "      <th>Change %</th>\n",
              "      <th>Open-diff</th>\n",
              "    </tr>\n",
              "  </thead>\n",
              "  <tbody>\n",
              "    <tr>\n",
              "      <th>0</th>\n",
              "      <td>2021-05-01</td>\n",
              "      <td>57807.1</td>\n",
              "      <td>57719.1</td>\n",
              "      <td>58449.4</td>\n",
              "      <td>57029.5</td>\n",
              "      <td>6341.0</td>\n",
              "      <td>0.15%</td>\n",
              "      <td>-1</td>\n",
              "    </tr>\n",
              "    <tr>\n",
              "      <th>1</th>\n",
              "      <td>2021-04-30</td>\n",
              "      <td>57720.3</td>\n",
              "      <td>53562.3</td>\n",
              "      <td>57925.6</td>\n",
              "      <td>53088.7</td>\n",
              "      <td>10374.0</td>\n",
              "      <td>7.77%</td>\n",
              "      <td>1</td>\n",
              "    </tr>\n",
              "    <tr>\n",
              "      <th>2</th>\n",
              "      <td>2021-04-29</td>\n",
              "      <td>53560.8</td>\n",
              "      <td>54838.6</td>\n",
              "      <td>55173.7</td>\n",
              "      <td>52400.0</td>\n",
              "      <td>8390.0</td>\n",
              "      <td>-2.34%</td>\n",
              "      <td>1</td>\n",
              "    </tr>\n",
              "    <tr>\n",
              "      <th>3</th>\n",
              "      <td>2021-04-28</td>\n",
              "      <td>54841.4</td>\n",
              "      <td>55036.0</td>\n",
              "      <td>56419.9</td>\n",
              "      <td>53876.4</td>\n",
              "      <td>8696.0</td>\n",
              "      <td>-0.35%</td>\n",
              "      <td>-1</td>\n",
              "    </tr>\n",
              "    <tr>\n",
              "      <th>4</th>\n",
              "      <td>2021-04-27</td>\n",
              "      <td>55036.5</td>\n",
              "      <td>54011.1</td>\n",
              "      <td>55427.8</td>\n",
              "      <td>53345.0</td>\n",
              "      <td>8408.0</td>\n",
              "      <td>1.88%</td>\n",
              "      <td>-1</td>\n",
              "    </tr>\n",
              "    <tr>\n",
              "      <th>...</th>\n",
              "      <td>...</td>\n",
              "      <td>...</td>\n",
              "      <td>...</td>\n",
              "      <td>...</td>\n",
              "      <td>...</td>\n",
              "      <td>...</td>\n",
              "      <td>...</td>\n",
              "      <td>...</td>\n",
              "    </tr>\n",
              "    <tr>\n",
              "      <th>3936</th>\n",
              "      <td>2010-07-22</td>\n",
              "      <td>0.1</td>\n",
              "      <td>0.1</td>\n",
              "      <td>0.1</td>\n",
              "      <td>0.1</td>\n",
              "      <td>216.0</td>\n",
              "      <td>0.00%</td>\n",
              "      <td>0</td>\n",
              "    </tr>\n",
              "    <tr>\n",
              "      <th>3937</th>\n",
              "      <td>2010-07-21</td>\n",
              "      <td>0.1</td>\n",
              "      <td>0.1</td>\n",
              "      <td>0.1</td>\n",
              "      <td>0.1</td>\n",
              "      <td>58.0</td>\n",
              "      <td>0.00%</td>\n",
              "      <td>0</td>\n",
              "    </tr>\n",
              "    <tr>\n",
              "      <th>3938</th>\n",
              "      <td>2010-07-20</td>\n",
              "      <td>0.1</td>\n",
              "      <td>0.1</td>\n",
              "      <td>0.1</td>\n",
              "      <td>0.1</td>\n",
              "      <td>26.0</td>\n",
              "      <td>0.00%</td>\n",
              "      <td>0</td>\n",
              "    </tr>\n",
              "    <tr>\n",
              "      <th>3939</th>\n",
              "      <td>2010-07-19</td>\n",
              "      <td>0.1</td>\n",
              "      <td>0.1</td>\n",
              "      <td>0.1</td>\n",
              "      <td>0.1</td>\n",
              "      <td>57.0</td>\n",
              "      <td>0.00%</td>\n",
              "      <td>-1</td>\n",
              "    </tr>\n",
              "    <tr>\n",
              "      <th>3940</th>\n",
              "      <td>2010-07-18</td>\n",
              "      <td>0.1</td>\n",
              "      <td>0.0</td>\n",
              "      <td>0.1</td>\n",
              "      <td>0.1</td>\n",
              "      <td>8.0</td>\n",
              "      <td>0.00%</td>\n",
              "      <td>0</td>\n",
              "    </tr>\n",
              "  </tbody>\n",
              "</table>\n",
              "<p>3941 rows × 8 columns</p>\n",
              "</div>"
            ],
            "text/plain": [
              "            Date    Price     Open  ...     Vol.  Change %  Open-diff\n",
              "0     2021-05-01  57807.1  57719.1  ...   6341.0     0.15%         -1\n",
              "1     2021-04-30  57720.3  53562.3  ...  10374.0     7.77%          1\n",
              "2     2021-04-29  53560.8  54838.6  ...   8390.0    -2.34%          1\n",
              "3     2021-04-28  54841.4  55036.0  ...   8696.0    -0.35%         -1\n",
              "4     2021-04-27  55036.5  54011.1  ...   8408.0     1.88%         -1\n",
              "...          ...      ...      ...  ...      ...       ...        ...\n",
              "3936  2010-07-22      0.1      0.1  ...    216.0     0.00%          0\n",
              "3937  2010-07-21      0.1      0.1  ...     58.0     0.00%          0\n",
              "3938  2010-07-20      0.1      0.1  ...     26.0     0.00%          0\n",
              "3939  2010-07-19      0.1      0.1  ...     57.0     0.00%         -1\n",
              "3940  2010-07-18      0.1      0.0  ...      8.0     0.00%          0\n",
              "\n",
              "[3941 rows x 8 columns]"
            ]
          },
          "metadata": {
            "tags": []
          },
          "execution_count": 40
        }
      ]
    },
    {
      "cell_type": "code",
      "metadata": {
        "colab": {
          "base_uri": "https://localhost:8080/"
        },
        "id": "ShP3agexMpu9",
        "outputId": "c49c338d-d6f7-498f-c4c4-d2ca06d47706"
      },
      "source": [
        "\n",
        "x22 = data22['Open'].values\n",
        "y22 = data22['Open-diff'].values\n",
        "\n",
        "xtest, xtrain, ytest, ytrain = train_test_split(x22, y22, test_size = 0.9699, random_state = 42, shuffle=False)\n",
        "ytrain"
      ],
      "execution_count": null,
      "outputs": [
        {
          "output_type": "execute_result",
          "data": {
            "text/plain": [
              "array([-1.0, -1.0, -1.0, ..., 0.0, -1.0, 0], dtype=object)"
            ]
          },
          "metadata": {
            "tags": []
          },
          "execution_count": 58
        }
      ]
    },
    {
      "cell_type": "code",
      "metadata": {
        "colab": {
          "base_uri": "https://localhost:8080/"
        },
        "id": "kJXK5LrPfjpG",
        "outputId": "8a70bf9f-f101-4136-9c37-652f32fae52b"
      },
      "source": [
        "xtrain = np.reshape(xtrain, (xtrain.shape[0], 1))\n",
        "xtest = np.reshape(xtest, (xtest.shape[0], 1))\n",
        "ytrain = np.reshape(ytrain, (ytrain.shape[0], 1))\n",
        "ytrain.shape"
      ],
      "execution_count": null,
      "outputs": [
        {
          "output_type": "execute_result",
          "data": {
            "text/plain": [
              "(3823, 1)"
            ]
          },
          "metadata": {
            "tags": []
          },
          "execution_count": 60
        }
      ]
    },
    {
      "cell_type": "code",
      "metadata": {
        "colab": {
          "base_uri": "https://localhost:8080/"
        },
        "id": "qQ20Z8TB4B_c",
        "outputId": "2f308a96-d62a-4a9c-86d6-bd15508caf6b"
      },
      "source": [
        "xtrain = np.reshape(xtrain, (xtrain.shape[0], 1, xtrain.shape[1]))\n",
        "xtest = np.reshape(xtest, (xtest.shape[0], 1, xtest.shape[1]))\n",
        "ytrain = np.reshape(ytrain, (ytrain.shape[0], 1, ytrain.shape[1]))\n",
        "ytrain.shape"
      ],
      "execution_count": null,
      "outputs": [
        {
          "output_type": "execute_result",
          "data": {
            "text/plain": [
              "(3823, 1, 1)"
            ]
          },
          "metadata": {
            "tags": []
          },
          "execution_count": 62
        }
      ]
    },
    {
      "cell_type": "code",
      "metadata": {
        "colab": {
          "base_uri": "https://localhost:8080/"
        },
        "id": "ULTngCZSflFd",
        "outputId": "b10041a6-22e6-4e73-aa1a-56da33a74823"
      },
      "source": [
        "tensor_xtrain = tf.convert_to_tensor(xtrain, np.float32)\n",
        "tensor_xtest = tf.convert_to_tensor(xtest, np.float32)\n",
        "tensor_ytrain = tf.convert_to_tensor(ytrain, np.float32)\n",
        "tensor_ytrain.shape"
      ],
      "execution_count": null,
      "outputs": [
        {
          "output_type": "execute_result",
          "data": {
            "text/plain": [
              "TensorShape([3823, 1, 1])"
            ]
          },
          "metadata": {
            "tags": []
          },
          "execution_count": 64
        }
      ]
    },
    {
      "cell_type": "code",
      "metadata": {
        "colab": {
          "base_uri": "https://localhost:8080/"
        },
        "id": "PISpBogJflI1",
        "outputId": "eef44974-72ca-40cf-c891-770092705070"
      },
      "source": [
        "model = Sequential()\n",
        "model.add(LSTM(4, input_shape=(1, look_back)))\n",
        "model.add(Dense(1))\n",
        "model.compile(loss='mean_squared_error', optimizer='adam')\n",
        "model.fit(tensor_xtrain, tensor_ytrain, epochs=100, batch_size=1, verbose=2)"
      ],
      "execution_count": null,
      "outputs": [
        {
          "output_type": "stream",
          "text": [
            "Epoch 1/100\n",
            "3823/3823 - 6s - loss: 0.8916\n",
            "Epoch 2/100\n",
            "3823/3823 - 4s - loss: 0.8904\n",
            "Epoch 3/100\n",
            "3823/3823 - 4s - loss: 0.8904\n",
            "Epoch 4/100\n",
            "3823/3823 - 4s - loss: 0.8904\n",
            "Epoch 5/100\n",
            "3823/3823 - 4s - loss: 0.8905\n",
            "Epoch 6/100\n",
            "3823/3823 - 4s - loss: 0.8905\n",
            "Epoch 7/100\n",
            "3823/3823 - 4s - loss: 0.8901\n",
            "Epoch 8/100\n",
            "3823/3823 - 4s - loss: 0.8904\n",
            "Epoch 9/100\n",
            "3823/3823 - 4s - loss: 0.8902\n",
            "Epoch 10/100\n",
            "3823/3823 - 4s - loss: 0.8904\n",
            "Epoch 11/100\n",
            "3823/3823 - 4s - loss: 0.8900\n",
            "Epoch 12/100\n",
            "3823/3823 - 4s - loss: 0.8896\n",
            "Epoch 13/100\n",
            "3823/3823 - 4s - loss: 0.8904\n",
            "Epoch 14/100\n",
            "3823/3823 - 4s - loss: 0.8900\n",
            "Epoch 15/100\n",
            "3823/3823 - 4s - loss: 0.8904\n",
            "Epoch 16/100\n",
            "3823/3823 - 4s - loss: 0.8903\n",
            "Epoch 17/100\n",
            "3823/3823 - 4s - loss: 0.8901\n",
            "Epoch 18/100\n",
            "3823/3823 - 4s - loss: 0.8898\n",
            "Epoch 19/100\n",
            "3823/3823 - 4s - loss: 0.8901\n",
            "Epoch 20/100\n",
            "3823/3823 - 4s - loss: 0.8903\n",
            "Epoch 21/100\n",
            "3823/3823 - 4s - loss: 0.8897\n",
            "Epoch 22/100\n",
            "3823/3823 - 4s - loss: 0.8897\n",
            "Epoch 23/100\n",
            "3823/3823 - 4s - loss: 0.8903\n",
            "Epoch 24/100\n",
            "3823/3823 - 4s - loss: 0.8902\n",
            "Epoch 25/100\n",
            "3823/3823 - 4s - loss: 0.8899\n",
            "Epoch 26/100\n",
            "3823/3823 - 4s - loss: 0.8903\n",
            "Epoch 27/100\n",
            "3823/3823 - 4s - loss: 0.8902\n",
            "Epoch 28/100\n",
            "3823/3823 - 4s - loss: 0.8901\n",
            "Epoch 29/100\n",
            "3823/3823 - 4s - loss: 0.8902\n",
            "Epoch 30/100\n",
            "3823/3823 - 4s - loss: 0.8903\n",
            "Epoch 31/100\n",
            "3823/3823 - 4s - loss: 0.8903\n",
            "Epoch 32/100\n",
            "3823/3823 - 4s - loss: 0.8903\n",
            "Epoch 33/100\n",
            "3823/3823 - 4s - loss: 0.8900\n",
            "Epoch 34/100\n",
            "3823/3823 - 4s - loss: 0.8900\n",
            "Epoch 35/100\n",
            "3823/3823 - 4s - loss: 0.8902\n",
            "Epoch 36/100\n",
            "3823/3823 - 4s - loss: 0.8901\n",
            "Epoch 37/100\n",
            "3823/3823 - 4s - loss: 0.8902\n",
            "Epoch 38/100\n",
            "3823/3823 - 4s - loss: 0.8903\n",
            "Epoch 39/100\n",
            "3823/3823 - 4s - loss: 0.8901\n",
            "Epoch 40/100\n",
            "3823/3823 - 4s - loss: 0.8902\n",
            "Epoch 41/100\n",
            "3823/3823 - 4s - loss: 0.8900\n",
            "Epoch 42/100\n",
            "3823/3823 - 4s - loss: 0.8904\n",
            "Epoch 43/100\n",
            "3823/3823 - 4s - loss: 0.8902\n",
            "Epoch 44/100\n",
            "3823/3823 - 4s - loss: 0.8902\n",
            "Epoch 45/100\n",
            "3823/3823 - 4s - loss: 0.8896\n",
            "Epoch 46/100\n",
            "3823/3823 - 4s - loss: 0.8903\n",
            "Epoch 47/100\n",
            "3823/3823 - 4s - loss: 0.8901\n",
            "Epoch 48/100\n",
            "3823/3823 - 4s - loss: 0.8899\n",
            "Epoch 49/100\n",
            "3823/3823 - 4s - loss: 0.8898\n",
            "Epoch 50/100\n",
            "3823/3823 - 4s - loss: 0.8903\n",
            "Epoch 51/100\n",
            "3823/3823 - 4s - loss: 0.8899\n",
            "Epoch 52/100\n",
            "3823/3823 - 4s - loss: 0.8904\n",
            "Epoch 53/100\n",
            "3823/3823 - 4s - loss: 0.8903\n",
            "Epoch 54/100\n",
            "3823/3823 - 4s - loss: 0.8900\n",
            "Epoch 55/100\n",
            "3823/3823 - 4s - loss: 0.8903\n",
            "Epoch 56/100\n",
            "3823/3823 - 4s - loss: 0.8902\n",
            "Epoch 57/100\n",
            "3823/3823 - 4s - loss: 0.8898\n",
            "Epoch 58/100\n",
            "3823/3823 - 4s - loss: 0.8900\n",
            "Epoch 59/100\n",
            "3823/3823 - 4s - loss: 0.8902\n",
            "Epoch 60/100\n",
            "3823/3823 - 4s - loss: 0.8902\n",
            "Epoch 61/100\n",
            "3823/3823 - 4s - loss: 0.8902\n",
            "Epoch 62/100\n",
            "3823/3823 - 4s - loss: 0.8901\n",
            "Epoch 63/100\n",
            "3823/3823 - 4s - loss: 0.8889\n",
            "Epoch 64/100\n",
            "3823/3823 - 4s - loss: 0.8906\n",
            "Epoch 65/100\n",
            "3823/3823 - 4s - loss: 0.8899\n",
            "Epoch 66/100\n",
            "3823/3823 - 4s - loss: 0.8899\n",
            "Epoch 67/100\n",
            "3823/3823 - 4s - loss: 0.8900\n",
            "Epoch 68/100\n",
            "3823/3823 - 4s - loss: 0.8902\n",
            "Epoch 69/100\n",
            "3823/3823 - 4s - loss: 0.8902\n",
            "Epoch 70/100\n",
            "3823/3823 - 4s - loss: 0.8902\n",
            "Epoch 71/100\n",
            "3823/3823 - 4s - loss: 0.8900\n",
            "Epoch 72/100\n",
            "3823/3823 - 4s - loss: 0.8900\n",
            "Epoch 73/100\n",
            "3823/3823 - 4s - loss: 0.8903\n",
            "Epoch 74/100\n",
            "3823/3823 - 4s - loss: 0.8901\n",
            "Epoch 75/100\n",
            "3823/3823 - 4s - loss: 0.8904\n",
            "Epoch 76/100\n",
            "3823/3823 - 4s - loss: 0.8898\n",
            "Epoch 77/100\n",
            "3823/3823 - 4s - loss: 0.8896\n",
            "Epoch 78/100\n",
            "3823/3823 - 4s - loss: 0.8902\n",
            "Epoch 79/100\n",
            "3823/3823 - 4s - loss: 0.8902\n",
            "Epoch 80/100\n",
            "3823/3823 - 4s - loss: 0.8897\n",
            "Epoch 81/100\n",
            "3823/3823 - 4s - loss: 0.8902\n",
            "Epoch 82/100\n",
            "3823/3823 - 4s - loss: 0.8902\n",
            "Epoch 83/100\n",
            "3823/3823 - 4s - loss: 0.8900\n",
            "Epoch 84/100\n",
            "3823/3823 - 4s - loss: 0.8902\n",
            "Epoch 85/100\n",
            "3823/3823 - 4s - loss: 0.8903\n",
            "Epoch 86/100\n",
            "3823/3823 - 4s - loss: 0.8902\n",
            "Epoch 87/100\n",
            "3823/3823 - 4s - loss: 0.8898\n",
            "Epoch 88/100\n",
            "3823/3823 - 4s - loss: 0.8902\n",
            "Epoch 89/100\n",
            "3823/3823 - 4s - loss: 0.8903\n",
            "Epoch 90/100\n",
            "3823/3823 - 4s - loss: 0.8901\n",
            "Epoch 91/100\n",
            "3823/3823 - 4s - loss: 0.8902\n",
            "Epoch 92/100\n",
            "3823/3823 - 4s - loss: 0.8902\n",
            "Epoch 93/100\n",
            "3823/3823 - 4s - loss: 0.8897\n",
            "Epoch 94/100\n",
            "3823/3823 - 4s - loss: 0.8903\n",
            "Epoch 95/100\n",
            "3823/3823 - 4s - loss: 0.8898\n",
            "Epoch 96/100\n",
            "3823/3823 - 4s - loss: 0.8903\n",
            "Epoch 97/100\n",
            "3823/3823 - 4s - loss: 0.8902\n",
            "Epoch 98/100\n",
            "3823/3823 - 4s - loss: 0.8901\n",
            "Epoch 99/100\n",
            "3823/3823 - 4s - loss: 0.8899\n",
            "Epoch 100/100\n",
            "3823/3823 - 4s - loss: 0.8899\n"
          ],
          "name": "stdout"
        },
        {
          "output_type": "execute_result",
          "data": {
            "text/plain": [
              "<tensorflow.python.keras.callbacks.History at 0x7f8fa3baec10>"
            ]
          },
          "metadata": {
            "tags": []
          },
          "execution_count": 65
        }
      ]
    },
    {
      "cell_type": "code",
      "metadata": {
        "colab": {
          "base_uri": "https://localhost:8080/"
        },
        "id": "sKI8X5M2flLk",
        "outputId": "5aa46cb1-d7bd-4592-a3f2-6e7c0f3f551e"
      },
      "source": [
        "# make predictions\n",
        "trainPredict22 = model.predict(tensor_xtrain)\n",
        "testPredict22 = model.predict(tensor_xtest)\n",
        "ytrain = np.reshape(ytrain, (ytrain.shape[0], 1))\n",
        "#calculate root mean squared error\n",
        "trainScore22 = math.sqrt(mean_squared_error(ytrain, trainPredict22[:,0]))\n",
        "print('Train Score: %.2f RMSE' % (trainScore22))\n",
        "testScore22 = math.sqrt(mean_squared_error(ytest, testPredict22[:,0]))\n",
        "print('Test Score: %.2f RMSE' % (testScore22))"
      ],
      "execution_count": null,
      "outputs": [
        {
          "output_type": "stream",
          "text": [
            "Train Score: 0.94 RMSE\n",
            "Test Score: 1.00 RMSE\n"
          ],
          "name": "stdout"
        }
      ]
    }
  ]
}